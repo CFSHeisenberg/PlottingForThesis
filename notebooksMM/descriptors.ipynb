{
 "cells": [
  {
   "cell_type": "markdown",
   "id": "9bb163ad",
   "metadata": {},
   "source": [
    "# Molecular Modelling Exercises\n",
    "\n",
    "Make sure you fill in any place that says `YOUR CODE HERE` or \"YOUR ANSWER HERE\"."
   ]
  },
  {
   "cell_type": "markdown",
   "id": "a0576831",
   "metadata": {},
   "source": [
    "---"
   ]
  },
  {
   "cell_type": "markdown",
   "id": "private-faculty",
   "metadata": {
    "deletable": false,
    "editable": false,
    "nbgrader": {
     "cell_type": "markdown",
     "checksum": "26bec3e6293970fbe3065344fa632a39",
     "grade": false,
     "grade_id": "cell-b105f8c3d01804a1",
     "locked": true,
     "schema_version": 3,
     "solution": false,
     "task": false
    },
    "tags": []
   },
   "source": [
    "# Getting started with the RDKit\n",
    "\n",
    "## Calculate Descriptors\n",
    "\n",
    "RDKit cntains a 'List of Available Descriptors' (https://www.rdkit.org/docs/GettingStartedInPython.html). To be able to use them we have to import the submodule into our notebook."
   ]
  },
  {
   "cell_type": "code",
   "execution_count": 1,
   "id": "capable-slave",
   "metadata": {
    "deletable": false,
    "editable": false,
    "nbgrader": {
     "cell_type": "code",
     "checksum": "75d10dcbdc4714ed533c0eb1a3716981",
     "grade": false,
     "grade_id": "cell-3e47a7b27e2bedb0",
     "locked": true,
     "schema_version": 3,
     "solution": false,
     "task": false
    },
    "tags": []
   },
   "outputs": [],
   "source": [
    "import math\n",
    "\n",
    "from matplotlib import pyplot as plt\n",
    "from rdkit import Chem\n",
    "from rdkit.Chem import Descriptors, Descriptors3D\n",
    "from rdkit.Chem import Lipinski\n",
    "from rdkit.Chem import AllChem\n",
    "from rdkit.Chem import rdchem\n",
    "import pandas as pd\n",
    "from scipy import stats\n",
    "\n",
    "from hints import hint"
   ]
  },
  {
   "cell_type": "markdown",
   "id": "afraid-valuation",
   "metadata": {
    "deletable": false,
    "editable": false,
    "nbgrader": {
     "cell_type": "markdown",
     "checksum": "d7b82c19d3e240693013ce7410947423",
     "grade": false,
     "grade_id": "cell-231d6e697dea0499",
     "locked": true,
     "schema_version": 3,
     "solution": false,
     "task": false
    },
    "tags": []
   },
   "source": [
    "First let's load the database using pandas which we will use for the next few exercises."
   ]
  },
  {
   "cell_type": "code",
   "execution_count": 2,
   "id": "facea8a7-dc8f-4067-a438-8ac0f4a38b93",
   "metadata": {
    "deletable": false,
    "nbgrader": {
     "cell_type": "code",
     "checksum": "994c053aad860fe2021145b190db230b",
     "grade": true,
     "grade_id": "cell-fe0907a4df78c3e2",
     "locked": false,
     "points": 1,
     "schema_version": 3,
     "solution": true,
     "task": false
    },
    "tags": []
   },
   "outputs": [
    {
     "data": {
      "text/html": [
       "<div>\n",
       "<style scoped>\n",
       "    .dataframe tbody tr th:only-of-type {\n",
       "        vertical-align: middle;\n",
       "    }\n",
       "\n",
       "    .dataframe tbody tr th {\n",
       "        vertical-align: top;\n",
       "    }\n",
       "\n",
       "    .dataframe thead th {\n",
       "        text-align: right;\n",
       "    }\n",
       "</style>\n",
       "<table border=\"1\" class=\"dataframe\">\n",
       "  <thead>\n",
       "    <tr style=\"text-align: right;\">\n",
       "      <th></th>\n",
       "      <th>Unnamed: 0</th>\n",
       "      <th>name</th>\n",
       "      <th>smiles</th>\n",
       "      <th>images</th>\n",
       "    </tr>\n",
       "  </thead>\n",
       "  <tbody>\n",
       "    <tr>\n",
       "      <th>0</th>\n",
       "      <td>0</td>\n",
       "      <td>Bivalirudin</td>\n",
       "      <td>CC[C@H](C)[C@H](NC(=O)[C@H](CCC(O)=O)NC(=O)[C@...</td>\n",
       "      <td>&lt;rdkit.Chem.rdchem.Mol object at 0x7f231fa73080&gt;</td>\n",
       "    </tr>\n",
       "    <tr>\n",
       "      <th>1</th>\n",
       "      <td>1</td>\n",
       "      <td>Goserelin</td>\n",
       "      <td>CC(C)C[C@H](NC(=O)[C@@H](COC(C)(C)C)NC(=O)[C@H...</td>\n",
       "      <td>&lt;rdkit.Chem.rdchem.Mol object at 0x7f231fa73170&gt;</td>\n",
       "    </tr>\n",
       "    <tr>\n",
       "      <th>2</th>\n",
       "      <td>2</td>\n",
       "      <td>Gramicidin D</td>\n",
       "      <td>CC(C)C[C@@H](NC(=O)CNC(=O)[C@@H](NC=O)C(C)C)C(...</td>\n",
       "      <td>&lt;rdkit.Chem.rdchem.Mol object at 0x7f231fa73120&gt;</td>\n",
       "    </tr>\n",
       "    <tr>\n",
       "      <th>3</th>\n",
       "      <td>3</td>\n",
       "      <td>Desmopressin</td>\n",
       "      <td>NC(=O)CC[C@@H]1NC(=O)[C@H](CC2=CC=CC=C2)NC(=O)...</td>\n",
       "      <td>&lt;rdkit.Chem.rdchem.Mol object at 0x7f231fa730d0&gt;</td>\n",
       "    </tr>\n",
       "    <tr>\n",
       "      <th>4</th>\n",
       "      <td>4</td>\n",
       "      <td>Cetrorelix</td>\n",
       "      <td>CC(C)C[C@H](NC(=O)[C@@H](CCCNC(N)=O)NC(=O)[C@H...</td>\n",
       "      <td>&lt;rdkit.Chem.rdchem.Mol object at 0x7f231fa731c0&gt;</td>\n",
       "    </tr>\n",
       "    <tr>\n",
       "      <th>...</th>\n",
       "      <td>...</td>\n",
       "      <td>...</td>\n",
       "      <td>...</td>\n",
       "      <td>...</td>\n",
       "    </tr>\n",
       "    <tr>\n",
       "      <th>9075</th>\n",
       "      <td>9075</td>\n",
       "      <td>Magnesium acetate</td>\n",
       "      <td>[Mg++].CC([O-])=O.CC([O-])=O</td>\n",
       "      <td>&lt;rdkit.Chem.rdchem.Mol object at 0x7f231fa28850&gt;</td>\n",
       "    </tr>\n",
       "    <tr>\n",
       "      <th>9076</th>\n",
       "      <td>9076</td>\n",
       "      <td>Baloxavir marboxil</td>\n",
       "      <td>[H][C@@]12COCCN1C(=O)C1=C(OCOC(=O)OC)C(=O)C=CN...</td>\n",
       "      <td>&lt;rdkit.Chem.rdchem.Mol object at 0x7f231fa288a0&gt;</td>\n",
       "    </tr>\n",
       "    <tr>\n",
       "      <th>9077</th>\n",
       "      <td>9077</td>\n",
       "      <td>Tetraglyme</td>\n",
       "      <td>COCCOCCOCCOCCOC</td>\n",
       "      <td>&lt;rdkit.Chem.rdchem.Mol object at 0x7f231fa288f0&gt;</td>\n",
       "    </tr>\n",
       "    <tr>\n",
       "      <th>9078</th>\n",
       "      <td>9078</td>\n",
       "      <td>alpha-Tocopherol succinate</td>\n",
       "      <td>[H][C@@](C)(CCCC(C)C)CCC[C@@]([H])(C)CCC[C@]1(...</td>\n",
       "      <td>&lt;rdkit.Chem.rdchem.Mol object at 0x7f231fa28940&gt;</td>\n",
       "    </tr>\n",
       "    <tr>\n",
       "      <th>9079</th>\n",
       "      <td>9079</td>\n",
       "      <td>D-alpha-Tocopherol acetate</td>\n",
       "      <td>CC(C)CCC[C@@H](C)CCC[C@@H](C)CCC[C@]1(C)CCC2=C...</td>\n",
       "      <td>&lt;rdkit.Chem.rdchem.Mol object at 0x7f231fa28990&gt;</td>\n",
       "    </tr>\n",
       "  </tbody>\n",
       "</table>\n",
       "<p>9080 rows × 4 columns</p>\n",
       "</div>"
      ],
      "text/plain": [
       "      Unnamed: 0                        name  \\\n",
       "0              0                 Bivalirudin   \n",
       "1              1                   Goserelin   \n",
       "2              2                Gramicidin D   \n",
       "3              3                Desmopressin   \n",
       "4              4                  Cetrorelix   \n",
       "...          ...                         ...   \n",
       "9075        9075           Magnesium acetate   \n",
       "9076        9076          Baloxavir marboxil   \n",
       "9077        9077                  Tetraglyme   \n",
       "9078        9078  alpha-Tocopherol succinate   \n",
       "9079        9079  D-alpha-Tocopherol acetate   \n",
       "\n",
       "                                                 smiles  \\\n",
       "0     CC[C@H](C)[C@H](NC(=O)[C@H](CCC(O)=O)NC(=O)[C@...   \n",
       "1     CC(C)C[C@H](NC(=O)[C@@H](COC(C)(C)C)NC(=O)[C@H...   \n",
       "2     CC(C)C[C@@H](NC(=O)CNC(=O)[C@@H](NC=O)C(C)C)C(...   \n",
       "3     NC(=O)CC[C@@H]1NC(=O)[C@H](CC2=CC=CC=C2)NC(=O)...   \n",
       "4     CC(C)C[C@H](NC(=O)[C@@H](CCCNC(N)=O)NC(=O)[C@H...   \n",
       "...                                                 ...   \n",
       "9075                       [Mg++].CC([O-])=O.CC([O-])=O   \n",
       "9076  [H][C@@]12COCCN1C(=O)C1=C(OCOC(=O)OC)C(=O)C=CN...   \n",
       "9077                                    COCCOCCOCCOCCOC   \n",
       "9078  [H][C@@](C)(CCCC(C)C)CCC[C@@]([H])(C)CCC[C@]1(...   \n",
       "9079  CC(C)CCC[C@@H](C)CCC[C@@H](C)CCC[C@]1(C)CCC2=C...   \n",
       "\n",
       "                                                images  \n",
       "0     <rdkit.Chem.rdchem.Mol object at 0x7f231fa73080>  \n",
       "1     <rdkit.Chem.rdchem.Mol object at 0x7f231fa73170>  \n",
       "2     <rdkit.Chem.rdchem.Mol object at 0x7f231fa73120>  \n",
       "3     <rdkit.Chem.rdchem.Mol object at 0x7f231fa730d0>  \n",
       "4     <rdkit.Chem.rdchem.Mol object at 0x7f231fa731c0>  \n",
       "...                                                ...  \n",
       "9075  <rdkit.Chem.rdchem.Mol object at 0x7f231fa28850>  \n",
       "9076  <rdkit.Chem.rdchem.Mol object at 0x7f231fa288a0>  \n",
       "9077  <rdkit.Chem.rdchem.Mol object at 0x7f231fa288f0>  \n",
       "9078  <rdkit.Chem.rdchem.Mol object at 0x7f231fa28940>  \n",
       "9079  <rdkit.Chem.rdchem.Mol object at 0x7f231fa28990>  \n",
       "\n",
       "[9080 rows x 4 columns]"
      ]
     },
     "execution_count": 2,
     "metadata": {},
     "output_type": "execute_result"
    }
   ],
   "source": [
    "drugs = pd.read_csv('drugs.smi')\n",
    "drugs['images'] = drugs['smiles'].apply(Chem.MolFromSmiles)\n",
    "drugs"
   ]
  },
  {
   "cell_type": "markdown",
   "id": "999ce501-3a37-49b3-9954-39e49ac2adca",
   "metadata": {
    "deletable": false,
    "editable": false,
    "nbgrader": {
     "cell_type": "markdown",
     "checksum": "ed2d73759a63744cb18a3e8f4dc66790",
     "grade": false,
     "grade_id": "cell-2088ea196d0a2aca",
     "locked": true,
     "schema_version": 3,
     "solution": false,
     "task": false
    },
    "tags": []
   },
   "source": [
    "# Exercise 1: Linear Regression\n",
    "\n",
    "1) calculate the descriptors for the exact molecular weight and the heavy atom molecular weight."
   ]
  },
  {
   "cell_type": "code",
   "execution_count": 9,
   "id": "restricted-presence",
   "metadata": {
    "deletable": false,
    "nbgrader": {
     "cell_type": "code",
     "checksum": "32f67616edb916d60a0fa697c3f14f72",
     "grade": true,
     "grade_id": "cell-6ff81776a3d2f286",
     "locked": false,
     "points": 1,
     "schema_version": 3,
     "solution": true,
     "task": false
    },
    "tags": []
   },
   "outputs": [
    {
     "name": "stdout",
     "output_type": "stream",
     "text": [
      "You need to draw the molecules to be able to calculate the descriptors.\n",
      "The commands you are looking for are 'Descriptors.ExactMolWt' and 'Descriptors.HeavyAtomMolWt'.\n"
     ]
    },
    {
     "data": {
      "text/html": [
       "<div>\n",
       "<style scoped>\n",
       "    .dataframe tbody tr th:only-of-type {\n",
       "        vertical-align: middle;\n",
       "    }\n",
       "\n",
       "    .dataframe tbody tr th {\n",
       "        vertical-align: top;\n",
       "    }\n",
       "\n",
       "    .dataframe thead th {\n",
       "        text-align: right;\n",
       "    }\n",
       "</style>\n",
       "<table border=\"1\" class=\"dataframe\">\n",
       "  <thead>\n",
       "    <tr style=\"text-align: right;\">\n",
       "      <th></th>\n",
       "      <th>Unnamed: 0</th>\n",
       "      <th>name</th>\n",
       "      <th>smiles</th>\n",
       "      <th>images</th>\n",
       "      <th>exactDesc</th>\n",
       "      <th>heavyDesc</th>\n",
       "    </tr>\n",
       "  </thead>\n",
       "  <tbody>\n",
       "    <tr>\n",
       "      <th>0</th>\n",
       "      <td>0</td>\n",
       "      <td>Bivalirudin</td>\n",
       "      <td>CC[C@H](C)[C@H](NC(=O)[C@H](CCC(O)=O)NC(=O)[C@...</td>\n",
       "      <td>&lt;rdkit.Chem.rdchem.Mol object at 0x7f231fa73080&gt;</td>\n",
       "      <td>2178.985813</td>\n",
       "      <td>2041.213</td>\n",
       "    </tr>\n",
       "    <tr>\n",
       "      <th>1</th>\n",
       "      <td>1</td>\n",
       "      <td>Goserelin</td>\n",
       "      <td>CC(C)C[C@H](NC(=O)[C@@H](COC(C)(C)C)NC(=O)[C@H...</td>\n",
       "      <td>&lt;rdkit.Chem.rdchem.Mol object at 0x7f231fa73170&gt;</td>\n",
       "      <td>1268.641439</td>\n",
       "      <td>1184.761</td>\n",
       "    </tr>\n",
       "    <tr>\n",
       "      <th>2</th>\n",
       "      <td>2</td>\n",
       "      <td>Gramicidin D</td>\n",
       "      <td>CC(C)C[C@@H](NC(=O)CNC(=O)[C@@H](NC=O)C(C)C)C(...</td>\n",
       "      <td>&lt;rdkit.Chem.rdchem.Mol object at 0x7f231fa73120&gt;</td>\n",
       "      <td>1810.033419</td>\n",
       "      <td>1675.173</td>\n",
       "    </tr>\n",
       "    <tr>\n",
       "      <th>3</th>\n",
       "      <td>3</td>\n",
       "      <td>Desmopressin</td>\n",
       "      <td>NC(=O)CC[C@@H]1NC(=O)[C@H](CC2=CC=CC=C2)NC(=O)...</td>\n",
       "      <td>&lt;rdkit.Chem.rdchem.Mol object at 0x7f231fa730d0&gt;</td>\n",
       "      <td>1068.426955</td>\n",
       "      <td>1004.726</td>\n",
       "    </tr>\n",
       "    <tr>\n",
       "      <th>4</th>\n",
       "      <td>4</td>\n",
       "      <td>Cetrorelix</td>\n",
       "      <td>CC(C)C[C@H](NC(=O)[C@@H](CCCNC(N)=O)NC(=O)[C@H...</td>\n",
       "      <td>&lt;rdkit.Chem.rdchem.Mol object at 0x7f231fa731c0&gt;</td>\n",
       "      <td>1429.669818</td>\n",
       "      <td>1338.328</td>\n",
       "    </tr>\n",
       "    <tr>\n",
       "      <th>...</th>\n",
       "      <td>...</td>\n",
       "      <td>...</td>\n",
       "      <td>...</td>\n",
       "      <td>...</td>\n",
       "      <td>...</td>\n",
       "      <td>...</td>\n",
       "    </tr>\n",
       "    <tr>\n",
       "      <th>9075</th>\n",
       "      <td>9075</td>\n",
       "      <td>Magnesium acetate</td>\n",
       "      <td>[Mg++].CC([O-])=O.CC([O-])=O</td>\n",
       "      <td>&lt;rdkit.Chem.rdchem.Mol object at 0x7f231fa28850&gt;</td>\n",
       "      <td>142.011650</td>\n",
       "      <td>136.345</td>\n",
       "    </tr>\n",
       "    <tr>\n",
       "      <th>9076</th>\n",
       "      <td>9076</td>\n",
       "      <td>Baloxavir marboxil</td>\n",
       "      <td>[H][C@@]12COCCN1C(=O)C1=C(OCOC(=O)OC)C(=O)C=CN...</td>\n",
       "      <td>&lt;rdkit.Chem.rdchem.Mol object at 0x7f231fa288a0&gt;</td>\n",
       "      <td>571.122478</td>\n",
       "      <td>548.374</td>\n",
       "    </tr>\n",
       "    <tr>\n",
       "      <th>9077</th>\n",
       "      <td>9077</td>\n",
       "      <td>Tetraglyme</td>\n",
       "      <td>COCCOCCOCCOCCOC</td>\n",
       "      <td>&lt;rdkit.Chem.rdchem.Mol object at 0x7f231fa288f0&gt;</td>\n",
       "      <td>222.146724</td>\n",
       "      <td>200.105</td>\n",
       "    </tr>\n",
       "    <tr>\n",
       "      <th>9078</th>\n",
       "      <td>9078</td>\n",
       "      <td>alpha-Tocopherol succinate</td>\n",
       "      <td>[H][C@@](C)(CCCC(C)C)CCC[C@@]([H])(C)CCC[C@]1(...</td>\n",
       "      <td>&lt;rdkit.Chem.rdchem.Mol object at 0x7f231fa28940&gt;</td>\n",
       "      <td>530.397125</td>\n",
       "      <td>476.358</td>\n",
       "    </tr>\n",
       "    <tr>\n",
       "      <th>9079</th>\n",
       "      <td>9079</td>\n",
       "      <td>D-alpha-Tocopherol acetate</td>\n",
       "      <td>CC(C)CCC[C@@H](C)CCC[C@@H](C)CCC[C@]1(C)CCC2=C...</td>\n",
       "      <td>&lt;rdkit.Chem.rdchem.Mol object at 0x7f231fa28990&gt;</td>\n",
       "      <td>472.391646</td>\n",
       "      <td>420.338</td>\n",
       "    </tr>\n",
       "  </tbody>\n",
       "</table>\n",
       "<p>9080 rows × 6 columns</p>\n",
       "</div>"
      ],
      "text/plain": [
       "      Unnamed: 0                        name  \\\n",
       "0              0                 Bivalirudin   \n",
       "1              1                   Goserelin   \n",
       "2              2                Gramicidin D   \n",
       "3              3                Desmopressin   \n",
       "4              4                  Cetrorelix   \n",
       "...          ...                         ...   \n",
       "9075        9075           Magnesium acetate   \n",
       "9076        9076          Baloxavir marboxil   \n",
       "9077        9077                  Tetraglyme   \n",
       "9078        9078  alpha-Tocopherol succinate   \n",
       "9079        9079  D-alpha-Tocopherol acetate   \n",
       "\n",
       "                                                 smiles  \\\n",
       "0     CC[C@H](C)[C@H](NC(=O)[C@H](CCC(O)=O)NC(=O)[C@...   \n",
       "1     CC(C)C[C@H](NC(=O)[C@@H](COC(C)(C)C)NC(=O)[C@H...   \n",
       "2     CC(C)C[C@@H](NC(=O)CNC(=O)[C@@H](NC=O)C(C)C)C(...   \n",
       "3     NC(=O)CC[C@@H]1NC(=O)[C@H](CC2=CC=CC=C2)NC(=O)...   \n",
       "4     CC(C)C[C@H](NC(=O)[C@@H](CCCNC(N)=O)NC(=O)[C@H...   \n",
       "...                                                 ...   \n",
       "9075                       [Mg++].CC([O-])=O.CC([O-])=O   \n",
       "9076  [H][C@@]12COCCN1C(=O)C1=C(OCOC(=O)OC)C(=O)C=CN...   \n",
       "9077                                    COCCOCCOCCOCCOC   \n",
       "9078  [H][C@@](C)(CCCC(C)C)CCC[C@@]([H])(C)CCC[C@]1(...   \n",
       "9079  CC(C)CCC[C@@H](C)CCC[C@@H](C)CCC[C@]1(C)CCC2=C...   \n",
       "\n",
       "                                                images    exactDesc  heavyDesc  \n",
       "0     <rdkit.Chem.rdchem.Mol object at 0x7f231fa73080>  2178.985813   2041.213  \n",
       "1     <rdkit.Chem.rdchem.Mol object at 0x7f231fa73170>  1268.641439   1184.761  \n",
       "2     <rdkit.Chem.rdchem.Mol object at 0x7f231fa73120>  1810.033419   1675.173  \n",
       "3     <rdkit.Chem.rdchem.Mol object at 0x7f231fa730d0>  1068.426955   1004.726  \n",
       "4     <rdkit.Chem.rdchem.Mol object at 0x7f231fa731c0>  1429.669818   1338.328  \n",
       "...                                                ...          ...        ...  \n",
       "9075  <rdkit.Chem.rdchem.Mol object at 0x7f231fa28850>   142.011650    136.345  \n",
       "9076  <rdkit.Chem.rdchem.Mol object at 0x7f231fa288a0>   571.122478    548.374  \n",
       "9077  <rdkit.Chem.rdchem.Mol object at 0x7f231fa288f0>   222.146724    200.105  \n",
       "9078  <rdkit.Chem.rdchem.Mol object at 0x7f231fa28940>   530.397125    476.358  \n",
       "9079  <rdkit.Chem.rdchem.Mol object at 0x7f231fa28990>   472.391646    420.338  \n",
       "\n",
       "[9080 rows x 6 columns]"
      ]
     },
     "execution_count": 9,
     "metadata": {},
     "output_type": "execute_result"
    }
   ],
   "source": [
    "hint(\"comm_1.1\")\n",
    "hint(\"comm_1.2\")\n",
    "\n",
    "drugs['exactDesc'] = drugs['images'].apply(Descriptors.ExactMolWt)\n",
    "drugs['heavyDesc'] = drugs['images'].apply(Descriptors.HeavyAtomMolWt)\n",
    "drugs"
   ]
  },
  {
   "cell_type": "markdown",
   "id": "a6e60409-89a6-4a18-843a-7cfcec57a0c9",
   "metadata": {
    "deletable": false,
    "editable": false,
    "nbgrader": {
     "cell_type": "markdown",
     "checksum": "e11b175f9aacb5b06f9dd457cda8f70b",
     "grade": false,
     "grade_id": "cell-a366eefc5c9151e2",
     "locked": true,
     "schema_version": 3,
     "solution": false,
     "task": false
    },
    "tags": []
   },
   "source": [
    "2) investigate the correlation between the two descriptors"
   ]
  },
  {
   "cell_type": "code",
   "execution_count": 25,
   "id": "d860b07f-653d-4da6-8f18-a4dab38beda5",
   "metadata": {
    "deletable": false,
    "nbgrader": {
     "cell_type": "code",
     "checksum": "5db970f60e9d6c8d7fc7f07ef13f344b",
     "grade": true,
     "grade_id": "cell-043248b841655824",
     "locked": false,
     "points": 0,
     "schema_version": 3,
     "solution": true,
     "task": false
    },
    "tags": []
   },
   "outputs": [
    {
     "name": "stdout",
     "output_type": "stream",
     "text": [
      "Parameters of regression:\n",
      " Slope =1.062156188310818\n",
      " Intercept = 0.1389110750425857\n"
     ]
    },
    {
     "data": {
      "image/png": "[encoded data removed]",
      "text/plain": [
       "<Figure size 432x288 with 1 Axes>"
      ]
     },
     "metadata": {
      "needs_background": "light"
     },
     "output_type": "display_data"
    }
   ],
   "source": [
    "#hint(\"comm_1.3\")\n",
    "\n",
    "from scipy.stats import linregress\n",
    "\n",
    "plt.scatter(drugs['heavyDesc'], drugs['exactDesc'])\n",
    "plt.xlabel(\"Heavy atom molecular weight\")\n",
    "plt.ylabel(\"Exact atom molecular weight\")\n",
    "\n",
    "regression = linregress(drugs['heavyDesc'], drugs['exactDesc'])\n",
    "plt.plot(drugs['heavyDesc'], regression.slope*drugs['heavyDesc'] + regression.intercept)\n",
    "print(\"Parameters of regression:\\n Slope =\" + str(regression.slope) +\"\\n Intercept = \" + str(regression.intercept))"
   ]
  },
  {
   "cell_type": "markdown",
   "id": "18ab74d3-dc3c-452b-a9f9-d9cabbb19666",
   "metadata": {
    "deletable": false,
    "editable": false,
    "nbgrader": {
     "cell_type": "markdown",
     "checksum": "126aad1f31d187b1f83442e157317149",
     "grade": false,
     "grade_id": "cell-d496107346890ddb",
     "locked": true,
     "schema_version": 3,
     "solution": false,
     "task": false
    },
    "tags": []
   },
   "source": [
    "3) Visualize the results"
   ]
  },
  {
   "cell_type": "code",
   "execution_count": null,
   "id": "7516f3d0-d57e-407d-ac7b-10d0e9e435ed",
   "metadata": {
    "deletable": false,
    "nbgrader": {
     "cell_type": "code",
     "checksum": "237120142d99c7cbb5e6502a59fecd53",
     "grade": true,
     "grade_id": "cell-9c0218ee59903237",
     "locked": false,
     "points": 1,
     "schema_version": 3,
     "solution": true,
     "task": false
    },
    "tags": []
   },
   "outputs": [],
   "source": [
    "# hint(\"comm_1.3\")\n",
    "\n",
    "#see above"
   ]
  },
  {
   "cell_type": "markdown",
   "id": "03d4d668-9036-4d02-aa03-00ef7e67c7e4",
   "metadata": {
    "deletable": false,
    "editable": false,
    "nbgrader": {
     "cell_type": "markdown",
     "checksum": "76582e4c38d1a200a5e6f0d955cb17f5",
     "grade": false,
     "grade_id": "cell-600c0a7337b322a5",
     "locked": true,
     "schema_version": 3,
     "solution": false,
     "task": false
    },
    "tags": []
   },
   "source": [
    "# Exercise 2: Lipinski Rule of 5\n",
    "\n",
    "- Determine the percentage of drugs which fulfill the Lipinski rule. (you may need to import another submodule named [`Lipinski`](https://www.rdkit.org/docs/source/rdkit.Chem.Lipinski.html).)"
   ]
  },
  {
   "cell_type": "code",
   "execution_count": 30,
   "id": "computational-attack",
   "metadata": {
    "deletable": false,
    "nbgrader": {
     "cell_type": "code",
     "checksum": "cb45938ad91f0d4c40efe9a2f7370e70",
     "grade": false,
     "grade_id": "cell-29ad69fd85b81fdf",
     "locked": false,
     "schema_version": 3,
     "solution": true,
     "task": false
    },
    "tags": []
   },
   "outputs": [
    {
     "name": "stdout",
     "output_type": "stream",
     "text": [
      "88.02863436123349\n"
     ]
    }
   ],
   "source": [
    "# hint(\"comm_2.1\")\n",
    "# hint(\"comm_2.2\")\n",
    "# hint(\"comm_2.3\")\n",
    "from rdkit.Chem import Lipinski\n",
    "\n",
    "\n",
    "def firstRule(mol):\n",
    "    return Lipinski.NumHDonors(mol) <= 5\n",
    "def secondRule(mol):\n",
    "    return Lipinski.NumHAcceptors(mol) <= 10\n",
    "def fourthRule(mol):\n",
    "    return Chem.Crippen.MolLogP(mol) <= 5\n",
    "\n",
    "acceptable = []\n",
    "\n",
    "for i in range (len(drugs)):\n",
    "    if firstRule(drugs['images'][i]) + secondRule(drugs['images'][i]) + (drugs['exactDesc'][i] < 500) +  fourthRule(drugs['images'][i]) >= 3:\n",
    "        acceptable.append(drugs['name'][i])\n",
    "    else:\n",
    "        None\n",
    "\n",
    "#print(acceptable)\n",
    "percentage = len(acceptable)/len(drugs)*100\n",
    "print(percentage)\n"
   ]
  },
  {
   "cell_type": "code",
   "execution_count": null,
   "id": "e2225671-8cef-41ee-9bd8-d67b50f972bc",
   "metadata": {
    "deletable": false,
    "editable": false,
    "nbgrader": {
     "cell_type": "code",
     "checksum": "dd22a354941ee1f0232e459bc8c2c395",
     "grade": true,
     "grade_id": "cell-f567069f5bcc04cb",
     "locked": true,
     "points": 1,
     "schema_version": 3,
     "solution": false,
     "task": false
    },
    "tags": []
   },
   "outputs": [],
   "source": [
    "assert percentage > 0 and percentage < 1, \"The percentage should be inbetween 0 and 1.\""
   ]
  },
  {
   "cell_type": "markdown",
   "id": "b2ba6ca3-a431-4a38-9018-33fac1dcf3fc",
   "metadata": {
    "deletable": false,
    "editable": false,
    "nbgrader": {
     "cell_type": "markdown",
     "checksum": "ff65f944ccb8f3fdfe88e5211df88b80",
     "grade": false,
     "grade_id": "cell-5798a8b38b560fbf",
     "locked": true,
     "schema_version": 3,
     "solution": false,
     "task": false
    },
    "tags": []
   },
   "source": [
    "# Exercise 3: Radius of Gyration\n",
    "\n",
    "- Take 100 random molecules from the data base and continue with this selection\n",
    "- Investigate the correlation between the molecular weight and the radius of gyration. \n",
    "\n",
    "To calculate the radius of gyration, you will need to generate 3D conformations, for example with `EmbedMolecule`. \n",
    "\n",
    "Q: This may error for some molecules, why and how can you resolve this issue?"
   ]
  },
  {
   "cell_type": "markdown",
   "id": "aa0d70fe-ade0-48e4-b282-638cb389b06b",
   "metadata": {
    "deletable": false,
    "nbgrader": {
     "cell_type": "markdown",
     "checksum": "e3a56dcc7ce6ab9d37acd52cd840c5b4",
     "grade": true,
     "grade_id": "cell-9c8465a9d61c642c",
     "locked": false,
     "points": 1,
     "schema_version": 3,
     "solution": true,
     "task": false
    },
    "tags": []
   },
   "source": [
    "YOUR ANSWER HERE"
   ]
  },
  {
   "cell_type": "markdown",
   "id": "735acb30-5930-49c4-863b-31009ed87784",
   "metadata": {
    "deletable": false,
    "editable": false,
    "nbgrader": {
     "cell_type": "markdown",
     "checksum": "747c43ec1f71d7c8059611a2f597e39c",
     "grade": false,
     "grade_id": "cell-44374a45bba91379",
     "locked": true,
     "schema_version": 3,
     "solution": false,
     "task": false
    },
    "tags": []
   },
   "source": [
    "1) Take 100 random molecules from the data base and continue with this selection."
   ]
  },
  {
   "cell_type": "code",
   "execution_count": null,
   "id": "electronic-clarity",
   "metadata": {
    "deletable": false,
    "nbgrader": {
     "cell_type": "code",
     "checksum": "6c7432bb3f1c8a79860372a671770b28",
     "grade": true,
     "grade_id": "cell-49c087b8e29a291e",
     "locked": false,
     "points": 1,
     "schema_version": 3,
     "solution": true,
     "task": false
    },
    "tags": []
   },
   "outputs": [],
   "source": [
    "# hint(\"comm_3.1\")\n",
    "\n",
    "# YOUR CODE HERE\n",
    "raise NotImplementedError()"
   ]
  },
  {
   "cell_type": "markdown",
   "id": "f781d5bf-5e7c-421a-85fe-6e839490ed22",
   "metadata": {
    "deletable": false,
    "editable": false,
    "nbgrader": {
     "cell_type": "markdown",
     "checksum": "ceed69fbb12733a54edb3752e88554c5",
     "grade": false,
     "grade_id": "cell-e1de4d752b836b67",
     "locked": true,
     "schema_version": 3,
     "solution": false,
     "task": false
    }
   },
   "source": [
    "2) Calculate the Radius of Gyration and Molecular Weight for the selection."
   ]
  },
  {
   "cell_type": "code",
   "execution_count": null,
   "id": "165bdb64-c69c-4cd3-b710-4f3e6ef6f576",
   "metadata": {
    "deletable": false,
    "nbgrader": {
     "cell_type": "code",
     "checksum": "c406bb6c89f2f721627e1c30300cad73",
     "grade": true,
     "grade_id": "cell-4237ee74ef3a743a",
     "locked": false,
     "points": 1,
     "schema_version": 3,
     "solution": true,
     "task": false
    },
    "tags": []
   },
   "outputs": [],
   "source": [
    "# hint(\"comm_3.2\")\n",
    "# hint(\"comm_3.3\")\n",
    "\n",
    "# YOUR CODE HERE\n",
    "raise NotImplementedError()"
   ]
  },
  {
   "cell_type": "markdown",
   "id": "9c1db36e-4e26-4cdd-b5a2-61194485a7e2",
   "metadata": {
    "deletable": false,
    "editable": false,
    "nbgrader": {
     "cell_type": "markdown",
     "checksum": "ccea0bfd419e5f4f96f14026175d7a01",
     "grade": false,
     "grade_id": "cell-10d74c44e6b99cff",
     "locked": true,
     "schema_version": 3,
     "solution": false,
     "task": false
    },
    "tags": []
   },
   "source": [
    "3) Investigate and visualize the correlation between the two Descriptors."
   ]
  },
  {
   "cell_type": "code",
   "execution_count": null,
   "id": "4ba278a7-35b7-4f55-9a70-79be18b5f513",
   "metadata": {
    "deletable": false,
    "nbgrader": {
     "cell_type": "code",
     "checksum": "e62823bff7029b9bec17258ca8310e8f",
     "grade": true,
     "grade_id": "cell-7f3a8b736ce49aad",
     "locked": false,
     "points": 1,
     "schema_version": 3,
     "solution": true,
     "task": false
    },
    "tags": []
   },
   "outputs": [],
   "source": [
    "# hint(\"comm_3.3\")\n",
    "\n",
    "# YOUR CODE HERE\n",
    "raise NotImplementedError()"
   ]
  }
 ],
 "metadata": {
  "kernelspec": {
   "display_name": "Python 3 (ipykernel)",
   "language": "python",
   "name": "python3"
  },
  "language_info": {
   "codemirror_mode": {
    "name": "ipython",
    "version": 3
   },
   "file_extension": ".py",
   "mimetype": "text/x-python",
   "name": "python",
   "nbconvert_exporter": "python",
   "pygments_lexer": "ipython3",
   "version": "3.7.11"
  }
 },
 "nbformat": 4,
 "nbformat_minor": 5
}
