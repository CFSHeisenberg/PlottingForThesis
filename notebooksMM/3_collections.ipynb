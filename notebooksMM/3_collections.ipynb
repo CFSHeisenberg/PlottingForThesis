{
 "cells": [
  {
   "cell_type": "markdown",
   "metadata": {},
   "source": [
    "# Molecular Modelling Exercises\n",
    "\n",
    "Make sure you fill in any place that says `YOUR CODE HERE` or \"YOUR ANSWER HERE\"."
   ]
  },
  {
   "cell_type": "markdown",
   "metadata": {},
   "source": [
    "---"
   ]
  },
  {
   "cell_type": "markdown",
   "metadata": {
    "deletable": false,
    "editable": false,
    "nbgrader": {
     "cell_type": "markdown",
     "checksum": "847671f5dcc395b115aa090e96c2aeb6",
     "grade": false,
     "grade_id": "cell-6985bf3559d5616f",
     "locked": true,
     "schema_version": 3,
     "solution": false,
     "task": false
    },
    "tags": []
   },
   "source": [
    "# Collections\n",
    "\n",
    "Usually one resorts to programming languages if one wants to process a lot of data. To store lots of data, Python provides different types of collections that can store as much data as you can fit in your memory.\n",
    "\n",
    "You already met one type of collections: ```String```.\n",
    "Strings are also collections that store text. So everything you learn here, can be applied to Strings as well.\n",
    "\n",
    "# Lists and Tuples\n",
    "\n",
    "Lists and Tuples are the most basic types of collections that exist.\n",
    "The main difference between lists and tuples is, that tuples can not be changed after creation, while lists can be dynamically changed, extended and shortened.\n",
    "\n",
    "Lists are indicated by square brackets `[]` while tuples are indicated by round brackets `()`.\n"
   ]
  },
  {
   "cell_type": "code",
   "execution_count": 1,
   "metadata": {},
   "outputs": [],
   "source": [
    "numbers_to_ten = [1, 2, 3, 4, 5, 6, 7, 8, 9, 10]\n",
    "\n",
    "lat_lon_innsbruck = (47.2692, 11.4041)"
   ]
  },
  {
   "cell_type": "markdown",
   "metadata": {
    "deletable": false,
    "editable": false,
    "nbgrader": {
     "cell_type": "markdown",
     "checksum": "62f970efa06a2b6044640e5532eacf6a",
     "grade": false,
     "grade_id": "cell-0c7c36f71f184413",
     "locked": true,
     "schema_version": 3,
     "solution": false,
     "task": false
    },
    "tags": []
   },
   "source": [
    "In python you can store different types of data in the same list or tuple. You can also store other lists or variables in a list.\n",
    "\n",
    "In the example below, we store a tuple containing a string, a float and an integer in a list."
   ]
  },
  {
   "cell_type": "code",
   "execution_count": 2,
   "metadata": {},
   "outputs": [],
   "source": [
    "# [name, weight, atomic number]\n",
    "oxygen = ('Oxygen', 15.999, 8)\n",
    "elements = [oxygen]"
   ]
  },
  {
   "cell_type": "markdown",
   "metadata": {
    "deletable": false,
    "editable": false,
    "nbgrader": {
     "cell_type": "markdown",
     "checksum": "64e6270ee9c2831a0f1f0f6078df867c",
     "grade": false,
     "grade_id": "cell-25ab4a466fe8c81f",
     "locked": true,
     "schema_version": 3,
     "solution": false,
     "task": false
    },
    "tags": []
   },
   "source": [
    "To access a specific element of a list or a tuple (or even string) you can indicate which element you want with square brackets after the variable name. Be aware that Python is 0 indexed, meaning, the first element has index 0, not 1! `variable_name[index]`\n",
    "\n",
    "If you want to access a slice of a collection, meaning a range of elements, you can also access that with square brackets. This time, instead of a single index for a single element one provides a start and a stop elements, where the stop element is not included. Start and stop indices are seperated by a colon: `variable_name[start:stop]`.\n",
    "\n",
    "![indexing in python](https://cdn.programiz.com/sites/tutorial2program/files/python-list-index.png)"
   ]
  },
  {
   "cell_type": "code",
   "execution_count": 3,
   "metadata": {},
   "outputs": [
    {
     "name": "stdout",
     "output_type": "stream",
     "text": [
      "8\n",
      "9\n",
      "[2, 3, 4, 5, 6, 7, 8]\n"
     ]
    }
   ],
   "source": [
    "print(oxygen[-1])\n",
    "print(numbers_to_ten[8])\n",
    "print(numbers_to_ten[1:8])"
   ]
  },
  {
   "cell_type": "markdown",
   "metadata": {
    "deletable": false,
    "editable": false,
    "nbgrader": {
     "cell_type": "markdown",
     "checksum": "cb1e8274e56db9b77296fb2b554cfee3",
     "grade": false,
     "grade_id": "cell-0950a060463d97ba",
     "locked": true,
     "schema_version": 3,
     "solution": false,
     "task": false
    },
    "tags": []
   },
   "source": [
    "Lets take a closer look at lists:\n",
    "To add a further element to a list you can `append` it to the list."
   ]
  },
  {
   "cell_type": "code",
   "execution_count": 4,
   "metadata": {},
   "outputs": [
    {
     "data": {
      "text/plain": [
       "[('Oxygen', 15.999, 8), ('Hydrogen', 1.008, 1), ('Helium', 4.002, 2)]"
      ]
     },
     "execution_count": 4,
     "metadata": {},
     "output_type": "execute_result"
    }
   ],
   "source": [
    "hydrogen = ('Hydrogen', 1.008, 1)\n",
    "helium = ('Helium', 4.002, 2 )\n",
    "elements.append(hydrogen)\n",
    "elements.append(helium)\n",
    "\n",
    "elements"
   ]
  },
  {
   "cell_type": "markdown",
   "metadata": {
    "deletable": false,
    "editable": false,
    "nbgrader": {
     "cell_type": "markdown",
     "checksum": "0df926d191c4fd11bf946f0e9df513f2",
     "grade": false,
     "grade_id": "cell-2225228f84eea2f3",
     "locked": true,
     "schema_version": 3,
     "solution": false,
     "task": false
    },
    "tags": []
   },
   "source": [
    "To remove the first occurance of an element you can `remove` it."
   ]
  },
  {
   "cell_type": "code",
   "execution_count": 5,
   "metadata": {},
   "outputs": [
    {
     "data": {
      "text/plain": [
       "[('Oxygen', 15.999, 8), ('Hydrogen', 1.008, 1)]"
      ]
     },
     "execution_count": 5,
     "metadata": {},
     "output_type": "execute_result"
    }
   ],
   "source": [
    "elements.remove(helium)\n",
    "elements"
   ]
  },
  {
   "cell_type": "markdown",
   "metadata": {
    "deletable": false,
    "editable": false,
    "nbgrader": {
     "cell_type": "markdown",
     "checksum": "da2e6b318c17176cfec105ce5b649c46",
     "grade": false,
     "grade_id": "cell-c065476424f29751",
     "locked": true,
     "schema_version": 3,
     "solution": false,
     "task": false
    },
    "tags": []
   },
   "source": [
    "In lists, as they are dynamic, you can assign new values as well."
   ]
  },
  {
   "cell_type": "code",
   "execution_count": 6,
   "metadata": {},
   "outputs": [
    {
     "name": "stdout",
     "output_type": "stream",
     "text": [
      "('Oxygen', 15.999, 8)\n"
     ]
    },
    {
     "data": {
      "text/plain": [
       "[('Hydrogen', 1.008, 1), ('Hydrogen', 1.008, 1)]"
      ]
     },
     "execution_count": 6,
     "metadata": {},
     "output_type": "execute_result"
    }
   ],
   "source": [
    "print(elements[0])\n",
    "elements[0] = hydrogen\n",
    "\n",
    "elements"
   ]
  },
  {
   "cell_type": "markdown",
   "metadata": {
    "deletable": false,
    "editable": false,
    "nbgrader": {
     "cell_type": "markdown",
     "checksum": "b6ee0d0d88dda07eda016dd73d6960ad",
     "grade": false,
     "grade_id": "cell-511bc595ff1849c1",
     "locked": true,
     "schema_version": 3,
     "solution": false,
     "task": false
    },
    "tags": []
   },
   "source": [
    "In tuples, removing, appending and assigning new values to a element does not work because tuples are immutable (=cannot be changed).\n",
    "\n",
    "If you want to quickly get the length of a collection, one can use the `len` function."
   ]
  },
  {
   "cell_type": "code",
   "execution_count": 7,
   "metadata": {},
   "outputs": [
    {
     "data": {
      "text/plain": [
       "2"
      ]
     },
     "execution_count": 7,
     "metadata": {},
     "output_type": "execute_result"
    }
   ],
   "source": [
    "len(elements)"
   ]
  },
  {
   "cell_type": "markdown",
   "metadata": {
    "deletable": false,
    "editable": false,
    "nbgrader": {
     "cell_type": "markdown",
     "checksum": "e2ffe3001008de16688445d0626534df",
     "grade": false,
     "grade_id": "cell-d80e74c3b477f107",
     "locked": true,
     "schema_version": 3,
     "solution": false,
     "task": false
    },
    "tags": []
   },
   "source": [
    "# Dictionary\n",
    "\n",
    "Sometimes a more complex collection type might be required. Dictionaries allow the mapping of one value to another. \n",
    "Similar as before, an element of a dictionary can be accessed by providing the key in square brackets after the dictionary name. In contrast to lists, the 'index' now is no longer the position in the list, but the key you provided when creating the dictionary. The keys must be unique.\n",
    "\n",
    "If the key does not exist in the dictionary, Python will complain and throw an error."
   ]
  },
  {
   "cell_type": "code",
   "execution_count": 8,
   "metadata": {},
   "outputs": [
    {
     "data": {
      "text/plain": [
       "{'hydrogen': (1, 1.008), 'helium': (2, 4.002), 'oxygen': (8, 15.999)}"
      ]
     },
     "execution_count": 8,
     "metadata": {},
     "output_type": "execute_result"
    }
   ],
   "source": [
    "# the indentation here in the example below is only for readability and won't influence the code.\n",
    "\n",
    "elements = {'hydrogen' : (1, 1.008),\n",
    "            'helium' : (2, 4.002), \n",
    "            'oxygen' : (8, 15.999),\n",
    "            }\n",
    "\n",
    "elements"
   ]
  },
  {
   "cell_type": "code",
   "execution_count": 9,
   "metadata": {},
   "outputs": [
    {
     "data": {
      "text/plain": [
       "(1, 1.008)"
      ]
     },
     "execution_count": 9,
     "metadata": {},
     "output_type": "execute_result"
    }
   ],
   "source": [
    "elements['hydrogen']"
   ]
  },
  {
   "cell_type": "markdown",
   "metadata": {
    "deletable": false,
    "editable": false,
    "nbgrader": {
     "cell_type": "markdown",
     "checksum": "0066f725c582b383b48225cc0a9742d8",
     "grade": false,
     "grade_id": "cell-37c3d4f1f2e7395f",
     "locked": true,
     "schema_version": 3,
     "solution": false,
     "task": false
    },
    "tags": []
   },
   "source": [
    "Similar to lists and tuples, the keys and associated values can be of any kind. The only requirement for the key is, that it must not be of a data type that can change (such as list)."
   ]
  },
  {
   "cell_type": "code",
   "execution_count": 10,
   "metadata": {},
   "outputs": [
    {
     "name": "stdout",
     "output_type": "stream",
     "text": [
      "{'hydrogen': (1, 1.008), 'helium': (2, 4.002), 'oxygen': (8, 15.999), 'random_key': 'This will add a new entry into the dictionary with key \"random_key\" and this string as value.'}\n"
     ]
    }
   ],
   "source": [
    "elements['random_key'] = 'This will add a new entry into the dictionary with key \"random_key\" and this string as value.'\n",
    "\n",
    "print(elements)\n",
    "\n",
    "elements['random_key'] = 'You can also change the associated value for a key.'"
   ]
  },
  {
   "cell_type": "markdown",
   "metadata": {
    "deletable": false,
    "editable": false,
    "nbgrader": {
     "cell_type": "markdown",
     "checksum": "3bb09d300055f29271ab85b7f584128d",
     "grade": false,
     "grade_id": "cell-bf091bf4303a7d34",
     "locked": true,
     "schema_version": 3,
     "solution": false,
     "task": false
    },
    "tags": []
   },
   "source": [
    "One can very quickly check wether a dictionary contains a certain key."
   ]
  },
  {
   "cell_type": "code",
   "execution_count": 11,
   "metadata": {},
   "outputs": [
    {
     "data": {
      "text/plain": [
       "True"
      ]
     },
     "execution_count": 11,
     "metadata": {},
     "output_type": "execute_result"
    }
   ],
   "source": [
    "'hydrogen' in elements"
   ]
  },
  {
   "cell_type": "markdown",
   "metadata": {
    "deletable": false,
    "editable": false,
    "nbgrader": {
     "cell_type": "markdown",
     "checksum": "c5d829ba632b039da9203031bc927434",
     "grade": false,
     "grade_id": "cell-f9df2368cdf73f8f",
     "locked": true,
     "schema_version": 3,
     "solution": false,
     "task": false
    }
   },
   "source": [
    "Again there are a lot of different methods (functions on objects) for dictionaries, so we won't cover all of them here and just showcase one.\n",
    "`pop` returns the associated value and removes this entry from the dictionary."
   ]
  },
  {
   "cell_type": "code",
   "execution_count": 12,
   "metadata": {},
   "outputs": [
    {
     "name": "stdout",
     "output_type": "stream",
     "text": [
      "removed_entry = You can also change the associated value for a key.\n",
      "{'hydrogen': (1, 1.008), 'helium': (2, 4.002), 'oxygen': (8, 15.999)}\n"
     ]
    }
   ],
   "source": [
    "removed_entry = elements.pop('random_key')\n",
    "print('removed_entry =', removed_entry)\n",
    "print(elements)"
   ]
  },
  {
   "cell_type": "markdown",
   "metadata": {
    "deletable": false,
    "editable": false,
    "nbgrader": {
     "cell_type": "markdown",
     "checksum": "1365e42d7dd8251ca29b8643778900e9",
     "grade": false,
     "grade_id": "cell-813fd2cc1e91d373",
     "locked": true,
     "schema_version": 3,
     "solution": false,
     "task": false
    }
   },
   "source": [
    "# Control Flow\n",
    "\n",
    "Control Flow plays a central part in a program or script and controls in what order or which code is executed at a time.\n",
    "\n",
    "## If and else\n",
    "\n",
    "As the name suggests, with `if` and `else` you can control which code block your program executes based on a condition.\n",
    "This is the first example where the indentation starts to matter."
   ]
  },
  {
   "cell_type": "code",
   "execution_count": 13,
   "metadata": {},
   "outputs": [
    {
     "name": "stdout",
     "output_type": "stream",
     "text": [
      "Hydrogen is in elements.\n",
      "Code at this indentation level is not affected by the if/else \n"
     ]
    }
   ],
   "source": [
    "if 'hydrogen' in elements: # this is True\n",
    "    print('Hydrogen is in elements.')\n",
    "else:\n",
    "    print('It\\'s not.')\n",
    "print('Code at this indentation level is not affected by the if/else ')"
   ]
  },
  {
   "cell_type": "code",
   "execution_count": 14,
   "metadata": {},
   "outputs": [
    {
     "name": "stdout",
     "output_type": "stream",
     "text": [
      "There is no carbon in the dictionary.\n",
      "Code at this indentation level is not affected by the if/else \n"
     ]
    }
   ],
   "source": [
    "if 'carbon' in elements: # This is False\n",
    "    print('An entry for carbon exists.')\n",
    "else:\n",
    "    print('There is no carbon in the dictionary.')\n",
    "print('Code at this indentation level is not affected by the if/else ')"
   ]
  },
  {
   "cell_type": "markdown",
   "metadata": {
    "deletable": false,
    "editable": false,
    "nbgrader": {
     "cell_type": "markdown",
     "checksum": "e78ddaf08969b7a1e5b9cb6d6c72dc78",
     "grade": false,
     "grade_id": "cell-98ad603efeff9aff",
     "locked": true,
     "schema_version": 3,
     "solution": false,
     "task": false
    }
   },
   "source": [
    "if you want to distinguish more than 2 cases, you can denote the cases inbetween the first and last with `elif`\n",
    "```python\n",
    "if first_condition and second_condition:\n",
    "    # do something\n",
    "    ...\n",
    "elif first_condition or second_condition:\n",
    "    # do something else\n",
    "    ...\n",
    "elif not first_condition:\n",
    "    # do something based on this condition\n",
    "    ...\n",
    "else:\n",
    "    # none of the above apply\n",
    "    ...\n",
    "```\n"
   ]
  },
  {
   "cell_type": "markdown",
   "metadata": {
    "deletable": false,
    "editable": false,
    "nbgrader": {
     "cell_type": "markdown",
     "checksum": "5ca6a1a978dfd9c08841ec27ba49c08b",
     "grade": false,
     "grade_id": "cell-ce0b0d12af817448",
     "locked": true,
     "schema_version": 3,
     "solution": false,
     "task": false
    },
    "tags": []
   },
   "source": [
    "## For loops\n",
    "If you want to do an operation for every element in a collection, for loops are the way to go.\n",
    "Again, everything that should be done for every element in a collection, has to be indented once below the `for`.\n",
    "\n",
    "### with range\n",
    "`range` is a function that returns values from the start (normally 0 if not provided) up until the endpoint."
   ]
  },
  {
   "cell_type": "code",
   "execution_count": 15,
   "metadata": {},
   "outputs": [
    {
     "data": {
      "text/plain": [
       "100"
      ]
     },
     "execution_count": 15,
     "metadata": {},
     "output_type": "execute_result"
    }
   ],
   "source": [
    "numbers_to_hundred = [] # empty list\n",
    "for number in range(1, 101): # go from 1 to 100, the 101 is a result from the 0 indexing\n",
    "    numbers_to_hundred.append(number) # add the number to the list from line 1\n",
    "\n",
    "numbers_to_hundred[-1] # display the last element"
   ]
  },
  {
   "cell_type": "code",
   "execution_count": 16,
   "metadata": {},
   "outputs": [
    {
     "data": {
      "text/plain": [
       "499999500000"
      ]
     },
     "execution_count": 16,
     "metadata": {},
     "output_type": "execute_result"
    }
   ],
   "source": [
    "sum_of_all_squares = 0 \n",
    "for i in range(1_000_000): # iterate up until 1 million\n",
    "    sum_of_all_squares += i  # short hand notation for sum_of_all_squares = sum_of_all_squares + i\n",
    "\n",
    "sum_of_all_squares"
   ]
  },
  {
   "cell_type": "markdown",
   "metadata": {
    "deletable": false,
    "editable": false,
    "nbgrader": {
     "cell_type": "markdown",
     "checksum": "ffa27ace8fc89eb4bbae69ac50082383",
     "grade": false,
     "grade_id": "cell-a22b525cb121c769",
     "locked": true,
     "schema_version": 3,
     "solution": false,
     "task": false
    }
   },
   "source": [
    "`sum_of_all_squares = sum_of_all_squares + i` is not a valid mathematical function, it should be False, right?\n",
    "\n",
    "The `=` operator must not be confused for the mathematical `=`, but rather is an assignment operator.\n",
    "The 'mathematical' `=` corresponds to the `==` operator in python. \n",
    "In the above example the value stored in `sum_of_all_squares + i` is assigned to the variable name `sum_of_all_squares`.\n",
    "This is repeated for all `i` from 0 to 1 million.\n",
    "\n",
    "Note that 1 million is excluded in the range above!"
   ]
  },
  {
   "cell_type": "markdown",
   "metadata": {
    "deletable": false,
    "editable": false,
    "nbgrader": {
     "cell_type": "markdown",
     "checksum": "b68ea683ae1e8656bad21011ce400336",
     "grade": false,
     "grade_id": "cell-5b34d5c4d4f00199",
     "locked": true,
     "schema_version": 3,
     "solution": false,
     "task": false
    }
   },
   "source": [
    "### over collections\n",
    "\n",
    "In python you can iterate over lists and tuples directly."
   ]
  },
  {
   "cell_type": "code",
   "execution_count": 17,
   "metadata": {},
   "outputs": [
    {
     "name": "stdout",
     "output_type": "stream",
     "text": [
      "--------------------------------------------------------------------------------\n",
      "alice\n",
      "bob\n",
      "foo\n",
      "bar\n",
      "baz\n",
      "--------------------------------------------------------------------------------\n",
      "alice\n",
      "bob\n",
      "foo\n",
      "bar\n",
      "baz\n",
      "--------------------------------------------------------------------------------\n",
      "alice 0 alice\n",
      "bob 1 bob\n",
      "foo 2 foo\n",
      "bar 3 bar\n",
      "baz 4 baz\n"
     ]
    }
   ],
   "source": [
    "usernames = ['alice', 'bob', 'foo', 'bar', 'baz']\n",
    "\n",
    "print('-'*80)\n",
    "# the most `pythonic way` is to iterate directly over the elements of the list\n",
    "for user in usernames:\n",
    "    print(user)\n",
    "\n",
    "print('-'*80)\n",
    "# but you can also iterate over the list using indeces\n",
    "for i in range(len(usernames)): # len() is a function that returns the length of a sequence\n",
    "    print(usernames[i])\n",
    "\n",
    "print('-'*80)\n",
    "# Alternatively the more pythonic way, if you need the index number, \n",
    "# but also want to iterate over the list directly you can use the \n",
    "# enumerate function.\n",
    "for i, user in enumerate(usernames):\n",
    "    print(user, i, usernames[i])"
   ]
  },
  {
   "cell_type": "markdown",
   "metadata": {
    "deletable": false,
    "editable": false,
    "nbgrader": {
     "cell_type": "markdown",
     "checksum": "032234caf09508fb0bc46adb801e7ccd",
     "grade": false,
     "grade_id": "cell-cf7a7fc862a95a31",
     "locked": true,
     "schema_version": 3,
     "solution": false,
     "task": false
    }
   },
   "source": [
    "If you iterate over dictionaries directly, you cannot use the range(len(...)) approach, this works this way."
   ]
  },
  {
   "cell_type": "code",
   "execution_count": 18,
   "metadata": {},
   "outputs": [
    {
     "name": "stdout",
     "output_type": "stream",
     "text": [
      "--------------------------------------------------------------------------------\n",
      "The atomic number is: 1, the associated name is: hydrogen\n",
      "The atomic number is: 2, the associated name is: helium\n",
      "The atomic number is: 3, the associated name is: berrylium\n",
      "--------------------------------------------------------------------------------\n",
      "1\n",
      "2\n",
      "3\n",
      "--------------------------------------------------------------------------------\n",
      "hydrogen\n",
      "helium\n",
      "berrylium\n"
     ]
    }
   ],
   "source": [
    "elements = {1: 'hydrogen', 2: 'helium', 3:'berrylium'}\n",
    "\n",
    "print('-'*80)\n",
    "for atomic_number, name in elements.items():\n",
    "    print(f'The atomic number is: {atomic_number}, the associated name is: {name}')\n",
    "\n",
    "\n",
    "print('-'*80)\n",
    "# if you only need the keys\n",
    "for atomic_number in elements: # or elements.keys(), both are equivalent for iteration.\n",
    "    print(atomic_number)\n",
    "\n",
    "print('-'*80)\n",
    "# if you only need the values\n",
    "for name in elements.values():\n",
    "    print(name)"
   ]
  },
  {
   "cell_type": "markdown",
   "metadata": {
    "deletable": false,
    "editable": false,
    "nbgrader": {
     "cell_type": "markdown",
     "checksum": "71a0be9d385b062d3830db30fdbc43b8",
     "grade": false,
     "grade_id": "cell-36a1b81cbc27045c",
     "locked": true,
     "schema_version": 3,
     "solution": false,
     "task": false
    }
   },
   "source": [
    "## Exercise 1: lists and for loops\n",
    "\n",
    "Create a list called `exercise_1` that contains all elements from 10 to 120 (including 10 and including 120)."
   ]
  },
  {
   "cell_type": "code",
   "execution_count": 22,
   "metadata": {
    "deletable": false,
    "nbgrader": {
     "cell_type": "code",
     "checksum": "79a05584622b78ceed90d249051e3d8c",
     "grade": false,
     "grade_id": "cell-97369c7603873a67",
     "locked": false,
     "schema_version": 3,
     "solution": true,
     "task": false
    },
    "tags": []
   },
   "outputs": [],
   "source": [
    "exercise_1 = []\n",
    "# YOUR CODE HERE\n",
    "for i in range (10,121):\n",
    "    exercise_1.append(i)"
   ]
  },
  {
   "cell_type": "code",
   "execution_count": 23,
   "metadata": {
    "deletable": false,
    "editable": false,
    "nbgrader": {
     "cell_type": "code",
     "checksum": "dc9731b57eed2a29708bd89a4f464a84",
     "grade": true,
     "grade_id": "cell-fad48b799477a983",
     "locked": true,
     "points": 1,
     "schema_version": 3,
     "solution": false,
     "task": false
    },
    "tags": []
   },
   "outputs": [],
   "source": [
    "assert exercise_1[0] == 10\n",
    "assert exercise_1[-1] == 120\n",
    "assert len(exercise_1) == 111"
   ]
  },
  {
   "cell_type": "markdown",
   "metadata": {
    "deletable": false,
    "editable": false,
    "nbgrader": {
     "cell_type": "markdown",
     "checksum": "708438bca1f60cd5a4a32321464030f9",
     "grade": false,
     "grade_id": "cell-6dd9f663d3f4ff33",
     "locked": true,
     "schema_version": 3,
     "solution": false,
     "task": false
    },
    "tags": []
   },
   "source": [
    "# Functions and Methods\n",
    "\n",
    "You won't need to write your own python functions, but you should be able to use them. Functions in python can be used as follows:\n",
    "```python\n",
    "function(argument, ..)\n",
    "```\n",
    "\n",
    "To define your own functions the syntax looks like this:\n",
    "```python\n",
    "def function(argument, ..):\n",
    "    # insert code that should be executed\n",
    "    value = ...\n",
    "    # if you want to return a value, this is done like this\n",
    "    return value\n",
    "```\n",
    "\n",
    "Depending on the function, different numbers of arguments or datatypes might be required. Note again, that everything that is indented below the function definition is part of the function.\n",
    "\n",
    "Below are some examples of built-in python functions."
   ]
  },
  {
   "cell_type": "code",
   "execution_count": 30,
   "metadata": {},
   "outputs": [],
   "source": [
    "l = [8, 1, 2, 1, 5]"
   ]
  },
  {
   "cell_type": "code",
   "execution_count": 31,
   "metadata": {},
   "outputs": [
    {
     "data": {
      "text/plain": [
       "8"
      ]
     },
     "execution_count": 31,
     "metadata": {},
     "output_type": "execute_result"
    }
   ],
   "source": [
    "max(l) # returns the highest element of a sequence"
   ]
  },
  {
   "cell_type": "code",
   "execution_count": 32,
   "metadata": {},
   "outputs": [
    {
     "data": {
      "text/plain": [
       "5"
      ]
     },
     "execution_count": 32,
     "metadata": {},
     "output_type": "execute_result"
    }
   ],
   "source": [
    "len(l)"
   ]
  },
  {
   "cell_type": "code",
   "execution_count": 33,
   "metadata": {},
   "outputs": [
    {
     "data": {
      "text/plain": [
       "8"
      ]
     },
     "execution_count": 33,
     "metadata": {},
     "output_type": "execute_result"
    }
   ],
   "source": [
    "abs(-8) # returns the absolute value"
   ]
  },
  {
   "cell_type": "code",
   "execution_count": 34,
   "metadata": {},
   "outputs": [
    {
     "data": {
      "text/plain": [
       "5050"
      ]
     },
     "execution_count": 34,
     "metadata": {},
     "output_type": "execute_result"
    }
   ],
   "source": [
    "sum_to_hundred = sum(numbers_to_hundred) # returns the sum of all values in a sequence\n",
    "sum_to_hundred"
   ]
  },
  {
   "cell_type": "markdown",
   "metadata": {
    "deletable": false,
    "editable": false,
    "nbgrader": {
     "cell_type": "markdown",
     "checksum": "5d6c29a6e45b63403bbbd981bbfef4a8",
     "grade": false,
     "grade_id": "cell-bd082b9b621dd8c7",
     "locked": true,
     "schema_version": 3,
     "solution": false,
     "task": false
    },
    "tags": []
   },
   "source": [
    "In python everything is an object. Many objects have so-called methods associated with them.\n",
    "You already saw one of them. For example the `list_name.append()` is a method that directly operates on the list and is only available for objects of type list.\n",
    "The usage of methods is equivalent to that of a regular function."
   ]
  },
  {
   "cell_type": "code",
   "execution_count": 37,
   "metadata": {},
   "outputs": [
    {
     "name": "stdout",
     "output_type": "stream",
     "text": [
      "Initial list= [8, 1, 2, 1, 5]\n",
      "[1, 1, 2, 5, 8]\n",
      "after function call= [8, 1, 2, 1, 5]\n",
      "after method call= [1, 1, 2, 5, 8]\n"
     ]
    }
   ],
   "source": [
    "# note the difference between the sort method and the sorted function\n",
    "print(f'Initial list= {l}')\n",
    "print(f'{sorted(l) }')\n",
    "print(f'after function call= {l}')\n",
    "l.sort()\n",
    "print(f'after method call= {l}')"
   ]
  },
  {
   "cell_type": "markdown",
   "metadata": {
    "deletable": false,
    "editable": false,
    "nbgrader": {
     "cell_type": "markdown",
     "checksum": "280bb5acb9653724d55c13b91ce5cf9d",
     "grade": false,
     "grade_id": "cell-d0a4264258cf3380",
     "locked": true,
     "points": 1,
     "schema_version": 3,
     "solution": false,
     "task": true
    },
    "tags": []
   },
   "source": [
    "## Exercise 2\n",
    "\n",
    "What is the differnece between the ```list.sort()``` method and the ```sorted()``` function?\n"
   ]
  },
  {
   "cell_type": "markdown",
   "metadata": {
    "deletable": false,
    "nbgrader": {
     "cell_type": "markdown",
     "checksum": "e72ab6343be1c8319b45e2b23bb7ef6e",
     "grade": true,
     "grade_id": "cell-5fe2ed4553ae3ed0",
     "locked": false,
     "points": 1,
     "schema_version": 3,
     "solution": true,
     "task": false
    },
    "tags": []
   },
   "source": [
    "list.sort() calls the sort method provided by any list object and actually changes the list to its now sorted state. the sorted() function called on a list returns the sorted list, but does not change the list object."
   ]
  },
  {
   "cell_type": "markdown",
   "metadata": {
    "deletable": false,
    "editable": false,
    "nbgrader": {
     "cell_type": "markdown",
     "checksum": "b5455a101d69ed6645b8ff64b98eb67b",
     "grade": false,
     "grade_id": "cell-1b989a054d970a15",
     "locked": true,
     "schema_version": 3,
     "solution": false,
     "task": false
    },
    "tags": []
   },
   "source": [
    "## Exercise 3: if statements\n",
    "\n",
    "Complete the following function, so that the function assigns a grade based on the points that a student received for a test.\n",
    "\n",
    "The `grade` should be assigned based on these criterions:\n",
    "- 1: above 87.5% \n",
    "- 2: 75-87.5%\n",
    "- 3: 62.5-75%\n",
    "- 4: 50-62.5%\n",
    "- 5: below 50%"
   ]
  },
  {
   "cell_type": "code",
   "execution_count": 42,
   "metadata": {
    "deletable": false,
    "nbgrader": {
     "cell_type": "code",
     "checksum": "8c4b8ccaae1be1d06160f9cd3d2e0089",
     "grade": false,
     "grade_id": "cell-38ed15d7bdea055d",
     "locked": false,
     "schema_version": 3,
     "solution": true,
     "task": false
    },
    "tags": []
   },
   "outputs": [],
   "source": [
    "def calculate_grade(achieved_points, total_points=24):\n",
    "    if achieved_points/total_points*100 >= 87.5:\n",
    "        grade = 1\n",
    "    elif achieved_points/total_points*100 >= 75:\n",
    "        grade = 2\n",
    "    elif achieved_points/total_points*100 >= 62.5:\n",
    "        grade = 3\n",
    "    elif achieved_points/total_points*100 >= 50:\n",
    "        grade = 4\n",
    "    else:\n",
    "        grade = 5\n",
    "    return grade"
   ]
  },
  {
   "cell_type": "code",
   "execution_count": 43,
   "metadata": {
    "deletable": false,
    "editable": false,
    "nbgrader": {
     "cell_type": "code",
     "checksum": "a6298a1ac5bcec85252a787edc91f0cb",
     "grade": true,
     "grade_id": "cell-0fd3c612fa84376c",
     "locked": true,
     "points": 1,
     "schema_version": 3,
     "solution": false,
     "task": false
    },
    "tags": []
   },
   "outputs": [],
   "source": [
    "assert calculate_grade(24, 24) == 1\n",
    "assert calculate_grade(87.5, 100) == 1\n",
    "assert calculate_grade(9, 10) == 1\n",
    "assert calculate_grade(8, 10) == 2\n",
    "assert calculate_grade(5, 10) == 4"
   ]
  },
  {
   "cell_type": "code",
   "execution_count": null,
   "metadata": {},
   "outputs": [],
   "source": []
  }
 ],
 "metadata": {
  "kernelspec": {
   "display_name": "Python 3 (ipykernel)",
   "language": "python",
   "name": "python3"
  },
  "language_info": {
   "codemirror_mode": {
    "name": "ipython",
    "version": 3
   },
   "file_extension": ".py",
   "mimetype": "text/x-python",
   "name": "python",
   "nbconvert_exporter": "python",
   "pygments_lexer": "ipython3",
   "version": "3.7.11"
  },
  "vscode": {
   "interpreter": {
    "hash": "916dbcbb3f70747c44a77c7bcd40155683ae19c65e1c03b4aa3499c5328201f1"
   }
  }
 },
 "nbformat": 4,
 "nbformat_minor": 4
}
