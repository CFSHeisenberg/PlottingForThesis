{
 "cells": [
  {
   "cell_type": "markdown",
   "metadata": {},
   "source": [
    "# Molecular Modelling Exercises\n",
    "\n",
    "Make sure you fill in any place that says `YOUR CODE HERE` or \"YOUR ANSWER HERE\"."
   ]
  },
  {
   "cell_type": "markdown",
   "metadata": {},
   "source": [
    "---"
   ]
  },
  {
   "cell_type": "markdown",
   "metadata": {},
   "source": [
    "# Datatypes"
   ]
  },
  {
   "cell_type": "markdown",
   "metadata": {
    "tags": []
   },
   "source": [
    "# Numeric Datatypes\n",
    "\n",
    "Integers and Floats are two common numeric types of python with which you can perform calculations.\n",
    "In Python you do not have to explicitly convert inbetween ints and floats for calculation.\n",
    "\n",
    "## Integer\n",
    "The name origins from Latin meaning: _in_ (\"not\") _tangere_ (\"to touch\"). As the name suggests, integers are 'whole' numbers without a floating point.\n",
    "Integers are exact. For large numbers you can add `_` inbetween numbers as you want for better readability.\n"
   ]
  },
  {
   "cell_type": "code",
   "execution_count": 1,
   "metadata": {},
   "outputs": [
    {
     "name": "stdout",
     "output_type": "stream",
     "text": [
      "The type of integer_number is:  <class 'int'>\n",
      "The underscores are not shown and only serve for readability purposes: 1000000000000\n"
     ]
    }
   ],
   "source": [
    "integer_number = 3\n",
    "print('The type of integer_number is: ', type(integer_number))\n",
    "\n",
    "large_number = 1_000_000_000_000 # for better readability you can add underscores\n",
    "print('The underscores are not shown and only serve for readability purposes:', large_number)"
   ]
  },
  {
   "cell_type": "markdown",
   "metadata": {},
   "source": [
    "## Floats\n",
    "\n",
    "Floats on the other hand can store rational numbers. The disadvantage is, that computers cannot calculate exactly with floating point numbers. Usually 7-14 digits are trustworthy, depending on the precision used."
   ]
  },
  {
   "cell_type": "code",
   "execution_count": 2,
   "metadata": {},
   "outputs": [
    {
     "name": "stdout",
     "output_type": "stream",
     "text": [
      "<class 'float'>\n",
      "<class 'float'>\n"
     ]
    }
   ],
   "source": [
    "float_number = 3.1415\n",
    "print(type(float_number))\n",
    "\n",
    "float_number = 2.\n",
    "print(type(float_number))"
   ]
  },
  {
   "cell_type": "code",
   "execution_count": 3,
   "metadata": {},
   "outputs": [
    {
     "name": "stdout",
     "output_type": "stream",
     "text": [
      ".1+.1+.1= 0.30000000000000004  and not 0.3\n"
     ]
    },
    {
     "data": {
      "text/plain": [
       "False"
      ]
     },
     "execution_count": 3,
     "metadata": {},
     "output_type": "execute_result"
    }
   ],
   "source": [
    "# showcase rounding errors\n",
    "print('.1+.1+.1=', .1+.1+.1, ' and not 0.3')\n",
    ".1 + .1 + .1 == .3"
   ]
  },
  {
   "cell_type": "markdown",
   "metadata": {},
   "source": [
    "You can perform arithmetic operations between ints and floats without explicitly converting the data types."
   ]
  },
  {
   "cell_type": "code",
   "execution_count": 4,
   "metadata": {},
   "outputs": [],
   "source": [
    "division = integer_number / float_number \n",
    "multiplication = integer_number * float_number\n",
    "exponentiation = integer_number ** float_number"
   ]
  },
  {
   "cell_type": "markdown",
   "metadata": {},
   "source": [
    "## Exercise: Double-Bond-Equivalents\n",
    "\n",
    "write a function that takes the number of hydrogen, carbon, nitrogen and halogen atoms and calculates the double bond equivalent:\n",
    "\\begin{equation}\n",
    "    DBE = C - \\frac{H - N + X}{2} + 1\n",
    "\\end{equation}\n"
   ]
  },
  {
   "cell_type": "code",
   "execution_count": 5,
   "metadata": {
    "deletable": false,
    "nbgrader": {
     "cell_type": "code",
     "checksum": "dcf25cdc9f479e432c2d8305ca69915f",
     "grade": false,
     "grade_id": "cell-5ad9cec94c7a56ac",
     "locked": false,
     "schema_version": 3,
     "solution": true,
     "task": false
    },
    "tags": []
   },
   "outputs": [],
   "source": [
    "def double_bond_equivalent(carbons, hydrogens, nitrogens, halogens):\n",
    "    # This is a function here, you will learn more about it later.\n",
    "    # make sure to create a variable `dbe` that will store the result of the calculation\n",
    "    # also make sure that all of the code is indented to the same level as the return dbe statement\n",
    "    \n",
    "    # YOUR CODE HERE\n",
    "    dbe = carbons - ((hydrogens - nitrogens + halogens)/2)+1\n",
    "    return dbe"
   ]
  },
  {
   "cell_type": "code",
   "execution_count": 6,
   "metadata": {
    "deletable": false,
    "editable": false,
    "nbgrader": {
     "cell_type": "code",
     "checksum": "6247464348b9c8bc64aefa541b32081a",
     "grade": true,
     "grade_id": "cell-53e647fa1fa05863",
     "locked": true,
     "points": 1,
     "schema_version": 3,
     "solution": false,
     "task": false
    },
    "tags": []
   },
   "outputs": [],
   "source": [
    "# this code down below tests wether your function works correctly\n",
    "\n",
    "assert double_bond_equivalent(6, 6, 0, 0) == 4\n",
    "assert double_bond_equivalent(1, 2, 1, 1) == 1\n"
   ]
  },
  {
   "cell_type": "markdown",
   "metadata": {},
   "source": [
    "# Strings\n",
    "\n",
    "Strings in Python store text information. They are enclosed in quotation marks."
   ]
  },
  {
   "cell_type": "code",
   "execution_count": 7,
   "metadata": {},
   "outputs": [],
   "source": [
    "conventional_string = 'Conventionally, strings are enclosed in single quotation marks in python.'\n",
    "also_accepted_string = \"But many programmers are used to use double quotation marks.\"\n",
    "\n",
    "longer_multi_line_string = '''This is why you can use both single and double quotation marks.\n",
    "If you want to write longer strings you need to use three (single or double) quotation marks \n",
    "    to start\n",
    "and also three quotation marks to indicate \n",
    "    the end \n",
    "of the string.'''"
   ]
  },
  {
   "cell_type": "code",
   "execution_count": 8,
   "metadata": {},
   "outputs": [
    {
     "name": "stdout",
     "output_type": "stream",
     "text": [
      "Conventionally, strings are enclosed in single quotation marks in python.\n",
      "But many programmers are used to use double quotation marks.\n",
      "This is why you can use both single and double quotation marks.\n",
      "If you want to write longer strings you need to use three (single or double) quotation marks \n",
      "    to start\n",
      "and also three quotation marks to indicate \n",
      "    the end \n",
      "of the string.\n"
     ]
    }
   ],
   "source": [
    "print(conventional_string)\n",
    "print(also_accepted_string)\n",
    "print(longer_multi_line_string)"
   ]
  },
  {
   "cell_type": "markdown",
   "metadata": {},
   "source": [
    "As you saw in the multiline string, even the linebreaks and indentation in the string is preserved.\n",
    "\n",
    "## Basic string formatting\n",
    "\n",
    "Strings have many methods implemented for them, which allows you to format them as you want."
   ]
  },
  {
   "cell_type": "code",
   "execution_count": 9,
   "metadata": {},
   "outputs": [
    {
     "name": "stdout",
     "output_type": "stream",
     "text": [
      "hello  WORLD Hello  wORLD\n"
     ]
    }
   ],
   "source": [
    "hello = 'Hello '\n",
    "world = 'World'\n",
    "\n",
    "print(hello.lower(), world.upper(), hello.capitalize(), world.swapcase())"
   ]
  },
  {
   "cell_type": "markdown",
   "metadata": {},
   "source": [
    "Sometimes, it you want to add the value of variables into a string. One way to do this is using string concatenation (as you will see below). \n",
    "\n",
    "Another approach is using the format feature of python strings. Take a look at the example below.\n",
    "\n",
    "The method `format` is called on the string. It replaces the curly brackets `{}` with the value you give to the `format` method.\n",
    "The second example uses the `f-strings`, which is a shorthand notation for the same functionality.\n",
    "\n",
    "Store your name in the `name` variable below."
   ]
  },
  {
   "cell_type": "code",
   "execution_count": 13,
   "metadata": {
    "deletable": false,
    "nbgrader": {
     "cell_type": "code",
     "checksum": "457b23ee144eea2336704930716d3cfe",
     "grade": false,
     "grade_id": "cell-9952f1709a7a87a1",
     "locked": false,
     "schema_version": 3,
     "solution": true,
     "task": false
    },
    "tags": []
   },
   "outputs": [
    {
     "name": "stdout",
     "output_type": "stream",
     "text": [
      "Hello, Michael Fill\n"
     ]
    },
    {
     "data": {
      "text/plain": [
       "True"
      ]
     },
     "execution_count": 13,
     "metadata": {},
     "output_type": "execute_result"
    }
   ],
   "source": [
    "# enter your name below\n",
    "name = \"Michael Fill\"\n",
    "# YOUR CODE HERE\n",
    "\n",
    "greeting = 'Hello, {}'.format(name.title())\n",
    "greeting2 = f'Hello, {name.title()}'\n",
    "\n",
    "print(greeting)\n",
    "\n",
    "greeting == greeting2"
   ]
  },
  {
   "cell_type": "markdown",
   "metadata": {},
   "source": [
    "The arithmetic operators that you saw for the numerical data types also exist for strings. But here they do something different."
   ]
  },
  {
   "cell_type": "code",
   "execution_count": 14,
   "metadata": {},
   "outputs": [
    {
     "data": {
      "text/plain": [
       "'Hello World'"
      ]
     },
     "execution_count": 14,
     "metadata": {},
     "output_type": "execute_result"
    }
   ],
   "source": [
    "\n",
    "hello + world"
   ]
  },
  {
   "cell_type": "code",
   "execution_count": 15,
   "metadata": {},
   "outputs": [
    {
     "data": {
      "text/plain": [
       "'Hello Hello Hello '"
      ]
     },
     "execution_count": 15,
     "metadata": {},
     "output_type": "execute_result"
    }
   ],
   "source": [
    "hello * 3"
   ]
  },
  {
   "cell_type": "markdown",
   "metadata": {},
   "source": [
    "If you read in data from a text file, all the information will be stored as string which can lead to suprising results if you then do calculations without further ado."
   ]
  },
  {
   "cell_type": "code",
   "execution_count": 16,
   "metadata": {
    "tags": []
   },
   "outputs": [
    {
     "name": "stdout",
     "output_type": "stream",
     "text": [
      "a + b= 63.1415\n",
      "a * 3= 666\n"
     ]
    }
   ],
   "source": [
    "a = '6'\n",
    "b = '3.1415'\n",
    "\n",
    "print('a + b=', a+b)\n",
    "print('a * 3=', a*3)"
   ]
  },
  {
   "cell_type": "markdown",
   "metadata": {},
   "source": [
    "In these cases, you need to convert your strings to the proper numerical type."
   ]
  },
  {
   "cell_type": "code",
   "execution_count": 17,
   "metadata": {},
   "outputs": [
    {
     "name": "stdout",
     "output_type": "stream",
     "text": [
      "a + b= 9.1415\n",
      "a * 3= 18\n"
     ]
    }
   ],
   "source": [
    "a = int(a)\n",
    "b = float(b)\n",
    "\n",
    "print('a + b=', a+b)\n",
    "print('a * 3=', a*3)"
   ]
  },
  {
   "cell_type": "markdown",
   "metadata": {},
   "source": [
    "# Boolean Values\n",
    "Boolean values can be either `True` or `False`. The result of comparison operators are boolean values.\n",
    "The operators to check for:\n",
    "\n",
    "- equality is `==`\n",
    "- inequality is `!=`\n",
    "- bigger / smaller are `>` / `<`\n",
    "- bigger or equal / smaller or equal are `>=` / `<=`"
   ]
  },
  {
   "cell_type": "code",
   "execution_count": 18,
   "metadata": {},
   "outputs": [
    {
     "name": "stdout",
     "output_type": "stream",
     "text": [
      "first_condition =  True\n",
      "second_condition = False\n"
     ]
    }
   ],
   "source": [
    "a = 1 \n",
    "b = 1\n",
    "c = 2\n",
    "\n",
    "first_condition = a == b\n",
    "second_condition = a >= c\n",
    "\n",
    "print('first_condition = ', first_condition)\n",
    "print('second_condition =', second_condition)"
   ]
  },
  {
   "cell_type": "markdown",
   "metadata": {},
   "source": [
    "With Boolean values you can perform logical operations:\n",
    "The three basic logical operations are:\n",
    " - conjunction - in python as `and`\n",
    " - disjunction - in python as `or`\n",
    " - negation    - in python as `not`"
   ]
  },
  {
   "cell_type": "code",
   "execution_count": 19,
   "metadata": {},
   "outputs": [
    {
     "name": "stdout",
     "output_type": "stream",
     "text": [
      "and: False\n",
      "or: True\n",
      "not: False\n"
     ]
    }
   ],
   "source": [
    "print('and:', first_condition and second_condition)\n",
    "print('or:', first_condition or second_condition)\n",
    "print('not:', not first_condition)"
   ]
  },
  {
   "cell_type": "markdown",
   "metadata": {},
   "source": [
    "# Exercise: Boolean Values\n",
    "\n",
    "Add a line in both the even as well as the uneven function so that the function returns a boolean value, that determines wether the number provided is even or uneven.\n",
    "\n",
    "hint: use the `%` modulo operator that returns the remainder of an integer division\n",
    "```python\n",
    ">>> 5 % 3\n",
    "2\n",
    "```"
   ]
  },
  {
   "cell_type": "code",
   "execution_count": 20,
   "metadata": {
    "deletable": false,
    "nbgrader": {
     "cell_type": "code",
     "checksum": "e065f65d5b89f70654e485d5b283a3ad",
     "grade": false,
     "grade_id": "cell-d9c6a994a436236e",
     "locked": false,
     "schema_version": 3,
     "solution": true,
     "task": false
    },
    "tags": []
   },
   "outputs": [],
   "source": [
    "def even(number):\n",
    "    # YOUR CODE HERE\n",
    "    expr = number % 2 == 0\n",
    "    return expr"
   ]
  },
  {
   "cell_type": "code",
   "execution_count": 21,
   "metadata": {
    "deletable": false,
    "nbgrader": {
     "cell_type": "code",
     "checksum": "9bad79506b93cded3a0450d268b6b183",
     "grade": false,
     "grade_id": "cell-270723ee4a267515",
     "locked": false,
     "schema_version": 3,
     "solution": true,
     "task": false
    },
    "tags": []
   },
   "outputs": [],
   "source": [
    "def uneven(number):\n",
    "    # YOUR CODE HERE\n",
    "    expr = number % 2 == 1\n",
    "    return expr"
   ]
  },
  {
   "cell_type": "code",
   "execution_count": 22,
   "metadata": {
    "deletable": false,
    "editable": false,
    "nbgrader": {
     "cell_type": "code",
     "checksum": "36f642da57d6fc30d9f28378a0fdf712",
     "grade": true,
     "grade_id": "cell-765f6108254ab9f3",
     "locked": true,
     "points": 1,
     "schema_version": 3,
     "solution": false,
     "task": false
    },
    "tags": []
   },
   "outputs": [],
   "source": [
    "assert even(2) == True\n",
    "assert even(1) == False\n",
    "\n",
    "assert uneven(1) == True\n",
    "assert uneven(2) == False"
   ]
  },
  {
   "cell_type": "code",
   "execution_count": null,
   "metadata": {},
   "outputs": [],
   "source": []
  }
 ],
 "metadata": {
  "kernelspec": {
   "display_name": "Python 3 (ipykernel)",
   "language": "python",
   "name": "python3"
  },
  "language_info": {
   "codemirror_mode": {
    "name": "ipython",
    "version": 3
   },
   "file_extension": ".py",
   "mimetype": "text/x-python",
   "name": "python",
   "nbconvert_exporter": "python",
   "pygments_lexer": "ipython3",
   "version": "3.7.11"
  },
  "vscode": {
   "interpreter": {
    "hash": "916dbcbb3f70747c44a77c7bcd40155683ae19c65e1c03b4aa3499c5328201f1"
   }
  }
 },
 "nbformat": 4,
 "nbformat_minor": 4
}
