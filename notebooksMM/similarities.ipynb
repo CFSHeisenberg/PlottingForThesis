{
 "cells": [
  {
   "cell_type": "markdown",
   "id": "723d72a6",
   "metadata": {},
   "source": [
    "# Molecular Modelling Exercises\n",
    "\n",
    "Make sure you fill in any place that says `YOUR CODE HERE` or \"YOUR ANSWER HERE\"."
   ]
  },
  {
   "cell_type": "markdown",
   "id": "da03a8f0",
   "metadata": {},
   "source": [
    "---"
   ]
  },
  {
   "cell_type": "markdown",
   "id": "handmade-premises",
   "metadata": {
    "deletable": false,
    "editable": false,
    "nbgrader": {
     "cell_type": "markdown",
     "checksum": "c5896360f97443363764faee05d035c1",
     "grade": false,
     "grade_id": "cell-61aca135641053c5",
     "locked": true,
     "schema_version": 3,
     "solution": false,
     "task": false
    },
    "tags": []
   },
   "source": [
    "# Getting started with the RDKit\n",
    "\n",
    "## Similarities"
   ]
  },
  {
   "cell_type": "markdown",
   "id": "significant-yahoo",
   "metadata": {
    "deletable": false,
    "editable": false,
    "nbgrader": {
     "cell_type": "markdown",
     "checksum": "f0f20d5f18be450b91b1ee0252518dfc",
     "grade": false,
     "grade_id": "cell-9e9f688a09f93bae",
     "locked": true,
     "schema_version": 3,
     "solution": false,
     "task": false
    },
    "tags": []
   },
   "source": [
    "According to the Descriptors we now can investigate our data set according to similarities. Therefore, we choose testosterone (which is part of the data set) as molecule of comparison. We again need to load the submodule to determine descriptors."
   ]
  },
  {
   "cell_type": "code",
   "execution_count": 1,
   "id": "cathedral-phrase",
   "metadata": {
    "deletable": false,
    "editable": false,
    "nbgrader": {
     "cell_type": "code",
     "checksum": "0c23614e7053dbf76e79324580ebb79d",
     "grade": false,
     "grade_id": "cell-898088f6bfc5cee5",
     "locked": true,
     "schema_version": 3,
     "solution": false,
     "task": false
    },
    "tags": []
   },
   "outputs": [],
   "source": [
    "from matplotlib import pyplot as plt\n",
    "import pandas as pd\n",
    "\n",
    "from rdkit import Chem\n",
    "from rdkit.Chem import Descriptors, Descriptors3D\n",
    "from rdkit.Chem import Lipinski\n",
    "from rdkit.Chem import rdchem\n",
    "from rdkit.Chem import AllChem, Draw\n",
    "from rdkit import DataStructs\n",
    "from rdkit.Chem.Draw import SimilarityMaps\n",
    "from rdkit.Chem.Draw import IPythonConsole\n",
    "\n",
    "from hints import hint"
   ]
  },
  {
   "cell_type": "markdown",
   "id": "sonic-adaptation",
   "metadata": {
    "deletable": false,
    "editable": false,
    "nbgrader": {
     "cell_type": "markdown",
     "checksum": "f3051027e2b595d23cd1f093e904f015",
     "grade": false,
     "grade_id": "cell-efc986de29cc897b",
     "locked": true,
     "schema_version": 3,
     "solution": false,
     "task": false
    },
    "tags": []
   },
   "source": [
    "## Exercise 1\n",
    "\n",
    "Load the 'drug.smi' file and perform a name search. \n",
    "- How many and which molecules do you find with the name 'testosterone' in them? \n",
    "- Vizualize them."
   ]
  },
  {
   "cell_type": "code",
   "execution_count": 11,
   "id": "acoustic-consortium",
   "metadata": {
    "deletable": false,
    "nbgrader": {
     "cell_type": "code",
     "checksum": "64c89fc22bb9488b770a247708d96a96",
     "grade": false,
     "grade_id": "cell-f290ecab56e5a020",
     "locked": false,
     "schema_version": 3,
     "solution": true,
     "task": false
    },
    "tags": []
   },
   "outputs": [
    {
     "name": "stdout",
     "output_type": "stream",
     "text": [
      "13\n"
     ]
    }
   ],
   "source": [
    "# hint('comm1.1')\n",
    "# hint('comm1.2')\n",
    "# hint('comm1.3')\n",
    "\n",
    "n_testosterone = 0\n",
    "drugs = pd.read_csv('drugs.smi')\n",
    "drugs['images'] = drugs['smiles'].apply(Chem.MolFromSmiles)\n",
    "drugs['hasTest'] = drugs['name'].apply(lambda s: s.lower().find(\"testosterone\"))\n",
    "for i in range(len(drugs)):\n",
    "    if drugs['hasTest'][i] > -1:\n",
    "        n_testosterone += 1\n",
    "    else:\n",
    "        None\n",
    "print(n_testosterone)"
   ]
  },
  {
   "cell_type": "code",
   "execution_count": 12,
   "id": "cd4751bd-fd81-434c-8916-cf20091054d9",
   "metadata": {
    "deletable": false,
    "editable": false,
    "nbgrader": {
     "cell_type": "code",
     "checksum": "ea3483f07184fe2d30df731658496de6",
     "grade": true,
     "grade_id": "cell-793a9f8df6d56824",
     "locked": true,
     "points": 1,
     "schema_version": 3,
     "solution": false,
     "task": false
    },
    "tags": []
   },
   "outputs": [],
   "source": [
    "assert isinstance(n_testosterone, int)\n",
    "assert n_testosterone > 2  # did you only include exact matches?\n",
    "assert n_testosterone != 5  # have you considered lower/upper case?"
   ]
  },
  {
   "cell_type": "markdown",
   "id": "0f61a780-e45c-4821-9a12-2bc462491ad3",
   "metadata": {
    "deletable": false,
    "editable": false,
    "nbgrader": {
     "cell_type": "markdown",
     "checksum": "e251307b71f250fce99c4aba2ea82b2a",
     "grade": false,
     "grade_id": "cell-101d0c65e353aa6a",
     "locked": true,
     "schema_version": 3,
     "solution": false,
     "task": false
    },
    "tags": []
   },
   "source": [
    "## Exercise 2\n",
    "\n",
    "1) Calculate the Morgan fingerprints and two different metrics: \n",
    "    - tanimoto\n",
    "    - dice"
   ]
  },
  {
   "cell_type": "code",
   "execution_count": 49,
   "id": "d895f8f9-c2dc-4e4b-b573-d001de8f7eb6",
   "metadata": {
    "deletable": false,
    "nbgrader": {
     "cell_type": "code",
     "checksum": "29ec3de5dc8319f68f3a0599d009bedb",
     "grade": true,
     "grade_id": "cell-f0e28b33807f52e0",
     "locked": false,
     "points": 1,
     "schema_version": 3,
     "solution": true,
     "task": false
    },
    "tags": []
   },
   "outputs": [
    {
     "data": {
      "text/html": [
       "<div>\n",
       "<style scoped>\n",
       "    .dataframe tbody tr th:only-of-type {\n",
       "        vertical-align: middle;\n",
       "    }\n",
       "\n",
       "    .dataframe tbody tr th {\n",
       "        vertical-align: top;\n",
       "    }\n",
       "\n",
       "    .dataframe thead th {\n",
       "        text-align: right;\n",
       "    }\n",
       "</style>\n",
       "<table border=\"1\" class=\"dataframe\">\n",
       "  <thead>\n",
       "    <tr style=\"text-align: right;\">\n",
       "      <th></th>\n",
       "      <th>Unnamed: 0</th>\n",
       "      <th>name</th>\n",
       "      <th>smiles</th>\n",
       "      <th>images</th>\n",
       "      <th>hasTest</th>\n",
       "      <th>morgan</th>\n",
       "      <th>similarToTestoTanimoto</th>\n",
       "      <th>similarToTestoDice</th>\n",
       "    </tr>\n",
       "  </thead>\n",
       "  <tbody>\n",
       "    <tr>\n",
       "      <th>0</th>\n",
       "      <td>0</td>\n",
       "      <td>Bivalirudin</td>\n",
       "      <td>CC[C@H](C)[C@H](NC(=O)[C@H](CCC(O)=O)NC(=O)[C@...</td>\n",
       "      <td>&lt;rdkit.Chem.rdchem.Mol object at 0x7f85e01218f0&gt;</td>\n",
       "      <td>-1</td>\n",
       "      <td>[0, 1, 0, 0, 0, 0, 0, 0, 0, 0, 0, 0, 0, 0, 0, ...</td>\n",
       "      <td>0.073529</td>\n",
       "      <td>0.136986</td>\n",
       "    </tr>\n",
       "    <tr>\n",
       "      <th>1</th>\n",
       "      <td>1</td>\n",
       "      <td>Goserelin</td>\n",
       "      <td>CC(C)C[C@H](NC(=O)[C@@H](COC(C)(C)C)NC(=O)[C@H...</td>\n",
       "      <td>&lt;rdkit.Chem.rdchem.Mol object at 0x7f85e0121800&gt;</td>\n",
       "      <td>-1</td>\n",
       "      <td>[0, 1, 0, 0, 0, 0, 0, 0, 0, 0, 0, 0, 0, 0, 0, ...</td>\n",
       "      <td>0.090278</td>\n",
       "      <td>0.165605</td>\n",
       "    </tr>\n",
       "    <tr>\n",
       "      <th>2</th>\n",
       "      <td>2</td>\n",
       "      <td>Gramicidin D</td>\n",
       "      <td>CC(C)C[C@@H](NC(=O)CNC(=O)[C@@H](NC=O)C(C)C)C(...</td>\n",
       "      <td>&lt;rdkit.Chem.rdchem.Mol object at 0x7f85e0121850&gt;</td>\n",
       "      <td>-1</td>\n",
       "      <td>[0, 1, 0, 0, 0, 0, 0, 0, 0, 0, 0, 0, 0, 0, 0, ...</td>\n",
       "      <td>0.047619</td>\n",
       "      <td>0.090909</td>\n",
       "    </tr>\n",
       "    <tr>\n",
       "      <th>3</th>\n",
       "      <td>3</td>\n",
       "      <td>Desmopressin</td>\n",
       "      <td>NC(=O)CC[C@@H]1NC(=O)[C@H](CC2=CC=CC=C2)NC(=O)...</td>\n",
       "      <td>&lt;rdkit.Chem.rdchem.Mol object at 0x7f85e0121940&gt;</td>\n",
       "      <td>-1</td>\n",
       "      <td>[0, 1, 0, 0, 0, 0, 0, 0, 0, 0, 0, 0, 0, 0, 0, ...</td>\n",
       "      <td>0.088710</td>\n",
       "      <td>0.162963</td>\n",
       "    </tr>\n",
       "    <tr>\n",
       "      <th>4</th>\n",
       "      <td>4</td>\n",
       "      <td>Cetrorelix</td>\n",
       "      <td>CC(C)C[C@H](NC(=O)[C@@H](CCCNC(N)=O)NC(=O)[C@H...</td>\n",
       "      <td>&lt;rdkit.Chem.rdchem.Mol object at 0x7f85e01217b0&gt;</td>\n",
       "      <td>-1</td>\n",
       "      <td>[0, 1, 0, 0, 0, 0, 0, 0, 0, 0, 0, 0, 0, 0, 0, ...</td>\n",
       "      <td>0.074627</td>\n",
       "      <td>0.138889</td>\n",
       "    </tr>\n",
       "    <tr>\n",
       "      <th>...</th>\n",
       "      <td>...</td>\n",
       "      <td>...</td>\n",
       "      <td>...</td>\n",
       "      <td>...</td>\n",
       "      <td>...</td>\n",
       "      <td>...</td>\n",
       "      <td>...</td>\n",
       "      <td>...</td>\n",
       "    </tr>\n",
       "    <tr>\n",
       "      <th>9075</th>\n",
       "      <td>9075</td>\n",
       "      <td>Magnesium acetate</td>\n",
       "      <td>[Mg++].CC([O-])=O.CC([O-])=O</td>\n",
       "      <td>&lt;rdkit.Chem.rdchem.Mol object at 0x7f85e01012b0&gt;</td>\n",
       "      <td>-1</td>\n",
       "      <td>[0, 0, 0, 0, 0, 0, 0, 0, 0, 0, 0, 0, 0, 0, 0, ...</td>\n",
       "      <td>0.066667</td>\n",
       "      <td>0.125000</td>\n",
       "    </tr>\n",
       "    <tr>\n",
       "      <th>9076</th>\n",
       "      <td>9076</td>\n",
       "      <td>Baloxavir marboxil</td>\n",
       "      <td>[H][C@@]12COCCN1C(=O)C1=C(OCOC(=O)OC)C(=O)C=CN...</td>\n",
       "      <td>&lt;rdkit.Chem.rdchem.Mol object at 0x7f85e0101300&gt;</td>\n",
       "      <td>-1</td>\n",
       "      <td>[0, 1, 0, 0, 1, 0, 0, 0, 0, 0, 0, 0, 0, 0, 0, ...</td>\n",
       "      <td>0.083333</td>\n",
       "      <td>0.153846</td>\n",
       "    </tr>\n",
       "    <tr>\n",
       "      <th>9077</th>\n",
       "      <td>9077</td>\n",
       "      <td>Tetraglyme</td>\n",
       "      <td>COCCOCCOCCOCCOC</td>\n",
       "      <td>&lt;rdkit.Chem.rdchem.Mol object at 0x7f85e0101350&gt;</td>\n",
       "      <td>-1</td>\n",
       "      <td>[0, 0, 0, 0, 0, 0, 0, 0, 0, 0, 0, 0, 0, 1, 0, ...</td>\n",
       "      <td>0.041667</td>\n",
       "      <td>0.080000</td>\n",
       "    </tr>\n",
       "    <tr>\n",
       "      <th>9078</th>\n",
       "      <td>9078</td>\n",
       "      <td>alpha-Tocopherol succinate</td>\n",
       "      <td>[H][C@@](C)(CCCC(C)C)CCC[C@@]([H])(C)CCC[C@]1(...</td>\n",
       "      <td>&lt;rdkit.Chem.rdchem.Mol object at 0x7f85e01013a0&gt;</td>\n",
       "      <td>-1</td>\n",
       "      <td>[0, 1, 0, 0, 0, 0, 0, 0, 0, 0, 0, 0, 0, 0, 0, ...</td>\n",
       "      <td>0.121951</td>\n",
       "      <td>0.217391</td>\n",
       "    </tr>\n",
       "    <tr>\n",
       "      <th>9079</th>\n",
       "      <td>9079</td>\n",
       "      <td>D-alpha-Tocopherol acetate</td>\n",
       "      <td>CC(C)CCC[C@@H](C)CCC[C@@H](C)CCC[C@]1(C)CCC2=C...</td>\n",
       "      <td>&lt;rdkit.Chem.rdchem.Mol object at 0x7f85e01013f0&gt;</td>\n",
       "      <td>-1</td>\n",
       "      <td>[0, 1, 0, 0, 0, 0, 0, 0, 0, 0, 0, 0, 0, 0, 0, ...</td>\n",
       "      <td>0.129870</td>\n",
       "      <td>0.229885</td>\n",
       "    </tr>\n",
       "  </tbody>\n",
       "</table>\n",
       "<p>9080 rows × 8 columns</p>\n",
       "</div>"
      ],
      "text/plain": [
       "      Unnamed: 0                        name  \\\n",
       "0              0                 Bivalirudin   \n",
       "1              1                   Goserelin   \n",
       "2              2                Gramicidin D   \n",
       "3              3                Desmopressin   \n",
       "4              4                  Cetrorelix   \n",
       "...          ...                         ...   \n",
       "9075        9075           Magnesium acetate   \n",
       "9076        9076          Baloxavir marboxil   \n",
       "9077        9077                  Tetraglyme   \n",
       "9078        9078  alpha-Tocopherol succinate   \n",
       "9079        9079  D-alpha-Tocopherol acetate   \n",
       "\n",
       "                                                 smiles  \\\n",
       "0     CC[C@H](C)[C@H](NC(=O)[C@H](CCC(O)=O)NC(=O)[C@...   \n",
       "1     CC(C)C[C@H](NC(=O)[C@@H](COC(C)(C)C)NC(=O)[C@H...   \n",
       "2     CC(C)C[C@@H](NC(=O)CNC(=O)[C@@H](NC=O)C(C)C)C(...   \n",
       "3     NC(=O)CC[C@@H]1NC(=O)[C@H](CC2=CC=CC=C2)NC(=O)...   \n",
       "4     CC(C)C[C@H](NC(=O)[C@@H](CCCNC(N)=O)NC(=O)[C@H...   \n",
       "...                                                 ...   \n",
       "9075                       [Mg++].CC([O-])=O.CC([O-])=O   \n",
       "9076  [H][C@@]12COCCN1C(=O)C1=C(OCOC(=O)OC)C(=O)C=CN...   \n",
       "9077                                    COCCOCCOCCOCCOC   \n",
       "9078  [H][C@@](C)(CCCC(C)C)CCC[C@@]([H])(C)CCC[C@]1(...   \n",
       "9079  CC(C)CCC[C@@H](C)CCC[C@@H](C)CCC[C@]1(C)CCC2=C...   \n",
       "\n",
       "                                                images  hasTest  \\\n",
       "0     <rdkit.Chem.rdchem.Mol object at 0x7f85e01218f0>       -1   \n",
       "1     <rdkit.Chem.rdchem.Mol object at 0x7f85e0121800>       -1   \n",
       "2     <rdkit.Chem.rdchem.Mol object at 0x7f85e0121850>       -1   \n",
       "3     <rdkit.Chem.rdchem.Mol object at 0x7f85e0121940>       -1   \n",
       "4     <rdkit.Chem.rdchem.Mol object at 0x7f85e01217b0>       -1   \n",
       "...                                                ...      ...   \n",
       "9075  <rdkit.Chem.rdchem.Mol object at 0x7f85e01012b0>       -1   \n",
       "9076  <rdkit.Chem.rdchem.Mol object at 0x7f85e0101300>       -1   \n",
       "9077  <rdkit.Chem.rdchem.Mol object at 0x7f85e0101350>       -1   \n",
       "9078  <rdkit.Chem.rdchem.Mol object at 0x7f85e01013a0>       -1   \n",
       "9079  <rdkit.Chem.rdchem.Mol object at 0x7f85e01013f0>       -1   \n",
       "\n",
       "                                                 morgan  \\\n",
       "0     [0, 1, 0, 0, 0, 0, 0, 0, 0, 0, 0, 0, 0, 0, 0, ...   \n",
       "1     [0, 1, 0, 0, 0, 0, 0, 0, 0, 0, 0, 0, 0, 0, 0, ...   \n",
       "2     [0, 1, 0, 0, 0, 0, 0, 0, 0, 0, 0, 0, 0, 0, 0, ...   \n",
       "3     [0, 1, 0, 0, 0, 0, 0, 0, 0, 0, 0, 0, 0, 0, 0, ...   \n",
       "4     [0, 1, 0, 0, 0, 0, 0, 0, 0, 0, 0, 0, 0, 0, 0, ...   \n",
       "...                                                 ...   \n",
       "9075  [0, 0, 0, 0, 0, 0, 0, 0, 0, 0, 0, 0, 0, 0, 0, ...   \n",
       "9076  [0, 1, 0, 0, 1, 0, 0, 0, 0, 0, 0, 0, 0, 0, 0, ...   \n",
       "9077  [0, 0, 0, 0, 0, 0, 0, 0, 0, 0, 0, 0, 0, 1, 0, ...   \n",
       "9078  [0, 1, 0, 0, 0, 0, 0, 0, 0, 0, 0, 0, 0, 0, 0, ...   \n",
       "9079  [0, 1, 0, 0, 0, 0, 0, 0, 0, 0, 0, 0, 0, 0, 0, ...   \n",
       "\n",
       "      similarToTestoTanimoto  similarToTestoDice  \n",
       "0                   0.073529            0.136986  \n",
       "1                   0.090278            0.165605  \n",
       "2                   0.047619            0.090909  \n",
       "3                   0.088710            0.162963  \n",
       "4                   0.074627            0.138889  \n",
       "...                      ...                 ...  \n",
       "9075                0.066667            0.125000  \n",
       "9076                0.083333            0.153846  \n",
       "9077                0.041667            0.080000  \n",
       "9078                0.121951            0.217391  \n",
       "9079                0.129870            0.229885  \n",
       "\n",
       "[9080 rows x 8 columns]"
      ]
     },
     "execution_count": 49,
     "metadata": {},
     "output_type": "execute_result"
    }
   ],
   "source": [
    "testoSmile = \"CC12CCC3C(C1CCC2O)CCC4=CC(=O)CCC34C\"\n",
    "testo = Chem.MolFromSmiles(testoSmile)\n",
    "testoPrt = SimilarityMaps.GetMorganFingerprint(testo)\n",
    "drugs['morgan'] = drugs['images'].apply(SimilarityMaps.GetMorganFingerprint)\n",
    "drugs['similarToTestoTanimoto'] = drugs['morgan'].apply(lambda mol: DataStructs.FingerprintSimilarity(mol,testoPrt, metric=DataStructs.TanimotoSimilarity))\n",
    "#DataStructs.FingerprintSimilarity(drugs['morgan'][0],drugs['morgan'][1], metric=DataStructs.TanimotoSimilarity)\n",
    "#DataStructs.FingerprintSimilarity(drugs['morgan'][0],drugs['morgan'][1])\n",
    "drugs['similarToTestoDice'] = drugs['morgan'].apply(lambda mol: DataStructs.FingerprintSimilarity(mol,testoPrt, metric=DataStructs.DiceSimilarity))"
   ]
  },
  {
   "cell_type": "code",
   "execution_count": 30,
   "id": "fb03a5d8",
   "metadata": {},
   "outputs": [],
   "source": [
    "#_a# = (1)\n",
    "#_#b = (1,)\n",
    "#type(_a), type(_b), len(_b)"
   ]
  },
  {
   "cell_type": "code",
   "execution_count": 19,
   "id": "9ee697f9",
   "metadata": {},
   "outputs": [],
   "source": [
    "#a = list(range(5))"
   ]
  },
  {
   "cell_type": "code",
   "execution_count": 28,
   "id": "e7f561a8",
   "metadata": {},
   "outputs": [],
   "source": [
    "#b, *c, d, e, f, g= a"
   ]
  },
  {
   "cell_type": "code",
   "execution_count": 29,
   "id": "2ab0e26e",
   "metadata": {},
   "outputs": [
    {
     "data": {
      "text/plain": [
       "[]"
      ]
     },
     "execution_count": 29,
     "metadata": {},
     "output_type": "execute_result"
    }
   ],
   "source": [
    "#for key, *val in dictionary_name.items()"
   ]
  },
  {
   "cell_type": "markdown",
   "id": "d218bab8-cdd5-4296-949a-b3777a5dee7c",
   "metadata": {
    "deletable": false,
    "editable": false,
    "nbgrader": {
     "cell_type": "markdown",
     "checksum": "c277e05fad35fbbe7721e10074eadcec",
     "grade": false,
     "grade_id": "cell-2f1d2ff7fce1069c",
     "locked": true,
     "schema_version": 3,
     "solution": false,
     "task": false
    },
    "tags": []
   },
   "source": [
    "2) Compare the results as a visualization."
   ]
  },
  {
   "cell_type": "code",
   "execution_count": 52,
   "id": "5c113341-5fc4-4ab0-a8a2-6a595b0a9420",
   "metadata": {
    "deletable": false,
    "nbgrader": {
     "cell_type": "code",
     "checksum": "f96eb34c160d3aa7e2f91580635f5c00",
     "grade": true,
     "grade_id": "cell-884b1c6eb6e555eb",
     "locked": false,
     "points": 2,
     "schema_version": 3,
     "solution": true,
     "task": false
    },
    "tags": []
   },
   "outputs": [
    {
     "data": {
      "text/plain": [
       "<matplotlib.collections.PathCollection at 0x7f85df619790>"
      ]
     },
     "execution_count": 52,
     "metadata": {},
     "output_type": "execute_result"
    },
    {
     "data": {
      "image/png": "[encoded data removed]",
      "text/plain": [
       "<Figure size 432x288 with 1 Axes>"
      ]
     },
     "metadata": {
      "needs_background": "light"
     },
     "output_type": "display_data"
    }
   ],
   "source": [
    "plt.scatter(drugs['similarToTestoTanimoto'], drugs['similarToTestoDice'])"
   ]
  },
  {
   "cell_type": "code",
   "execution_count": 109,
   "id": "e399f1e5",
   "metadata": {},
   "outputs": [
    {
     "name": "stdout",
     "output_type": "stream",
     "text": [
      "Tani:Testosteroneat509\n",
      "Tani:Testosterone propionateat1226\n",
      "Tani:1-Testosteroneat1283\n",
      "Tani:4-Hydroxytestosteroneat1287\n",
      "Tani:18-methyl-19-nortestosteroneat1338\n",
      "Tani:Methyl-1-testosteroneat1367\n",
      "Tani:Methyltestosteroneat5004\n",
      "Tani:5beta-dihydrotestosteroneat5705\n",
      "Tani:Testosterone succinateat6827\n",
      "Tani:Testosterone cypionateat9037\n",
      "Tani:Testosterone enanthateat9038\n",
      "Tani:Testosterone undecanoateat9039\n",
      "Tani:Testosterone 17-enanthate 3-benzilic acid hydrazoneat9040\n",
      "Dice:Testosterone\n",
      "Dice:Testosterone propionate\n",
      "Dice:1-Testosterone\n",
      "Dice:4-Hydroxytestosterone\n",
      "Dice:18-methyl-19-nortestosterone\n",
      "Dice:Methyl-1-testosterone\n",
      "Dice:Methyltestosterone\n",
      "Dice:5beta-dihydrotestosterone\n",
      "Dice:Testosterone succinate\n",
      "Dice:Testosterone cypionate\n",
      "Dice:Testosterone enanthate\n",
      "Dice:Testosterone undecanoate\n",
      "Dice:Testosterone 17-enanthate 3-benzilic acid hydrazone\n"
     ]
    }
   ],
   "source": [
    "sortedByTani = drugs.sort_values(by='similarToTestoTanimoto', ascending=False)\n",
    "sortedByDice = drugs.sort_values(by='similarToTestoDice', ascending=False)\n",
    "#sortedByDice\n",
    "#sortedByTani['name'].iloc[0]\n",
    "for i in range(len(sortedByTani)):\n",
    "    if sortedByTani['hasTest'][i] > -1:\n",
    "        print(\"Tani:\" + drugs['name'][i] + \"at\" + str(i))\n",
    "    else:\n",
    "        None\n",
    "\n",
    "for i in range(len(sortedByDice)):\n",
    "    if sortedByDice['hasTest'][i] > -1:\n",
    "        print(\"Dice:\" + drugs['name'][i])\n",
    "    else:\n",
    "        None"
   ]
  },
  {
   "cell_type": "markdown",
   "id": "6c35f3a5-2ca7-436d-892d-63558b04801e",
   "metadata": {
    "deletable": false,
    "editable": false,
    "nbgrader": {
     "cell_type": "markdown",
     "checksum": "689ec43ac24cf6dd437809350a75c0d5",
     "grade": false,
     "grade_id": "cell-745f89a96c4f400d",
     "locked": true,
     "schema_version": 3,
     "solution": false,
     "task": false
    },
    "tags": []
   },
   "source": [
    "Q: Rank your database according to these two metrics. How do they differ? Where are the molecules found in the name search ranked?"
   ]
  },
  {
   "cell_type": "code",
   "execution_count": null,
   "id": "0e29a1f3",
   "metadata": {},
   "outputs": [],
   "source": [
    "#The metrices result in an identical ranking of the molecules"
   ]
  },
  {
   "cell_type": "code",
   "execution_count": 120,
   "id": "c70ff03b",
   "metadata": {},
   "outputs": [
    {
     "data": {
      "text/plain": [
       "<AxesSubplot:xlabel='similarToTestoTanimoto', ylabel='similarToTestoDice'>"
      ]
     },
     "execution_count": 120,
     "metadata": {},
     "output_type": "execute_result"
    },
    {
     "data": {
      "image/png": "[encoded data removed]",
      "text/plain": [
       "<Figure size 432x288 with 1 Axes>"
      ]
     },
     "metadata": {
      "needs_background": "light"
     },
     "output_type": "display_data"
    }
   ],
   "source": [
    "sortedByDice = sortedByDice.reset_index(drop=True)\n",
    "testes_subset = sortedByDice[sortedByDice.name.str.contains('testosterone', case=False)]\n",
    "testes_subset = testes_subset[['name', 'similarToTestoTanimoto', 'similarToTestoDice']]\n",
    "\n",
    "fig, ax = plt.subplots()\n",
    "\n",
    "testes_subset.set_index('name').plot.scatter(x='similarToTestoTanimoto', y='similarToTestoDice', ax=ax)\n",
    "drugs.plot.scatter(x='similarToTestoTanimoto', y='similarToTestoDice', color='tab:grey', alpha=0.2, ax=ax)"
   ]
  },
  {
   "cell_type": "markdown",
   "id": "8463b733-8b64-45a3-9abf-5ec13ff5d25e",
   "metadata": {
    "deletable": false,
    "nbgrader": {
     "cell_type": "markdown",
     "checksum": "a76bd0112917218439669bce0366e070",
     "grade": true,
     "grade_id": "cell-8da13c8fa22ffde9",
     "locked": false,
     "points": 1,
     "schema_version": 3,
     "solution": true,
     "task": false
    },
    "tags": []
   },
   "source": [
    "Both metrices result in the same ranking."
   ]
  },
  {
   "cell_type": "markdown",
   "id": "77079b5a-d1df-4a8c-9cc6-8f6e3024ada8",
   "metadata": {
    "deletable": false,
    "editable": false,
    "nbgrader": {
     "cell_type": "markdown",
     "checksum": "3b947e46335aef0b8b137aa27c01d0a7",
     "grade": false,
     "grade_id": "cell-005415f82cfeade2",
     "locked": true,
     "schema_version": 3,
     "solution": false,
     "task": false
    },
    "tags": []
   },
   "source": [
    "## Exercise 3 Similarity Maps\n",
    "\n",
    "Visually compare testosterone to progesterone using different types of fingerprints:\n",
    "- Morgan\n",
    "- APFingerprint\n",
    "- TTFingerprint\n",
    "- RDKFingerprint\n",
    "\n",
    "Q: How do the results look with tanimoto? Do the results change with different metrics?"
   ]
  },
  {
   "cell_type": "markdown",
   "id": "3a698136-0a03-4046-b5b8-cb6e9d5b60fc",
   "metadata": {
    "deletable": false,
    "nbgrader": {
     "cell_type": "markdown",
     "checksum": "7b7cb741830ddc71aec4c9057902af62",
     "grade": true,
     "grade_id": "cell-99aa77fb08029092",
     "locked": false,
     "points": 1,
     "schema_version": 3,
     "solution": true,
     "task": false
    },
    "tags": []
   },
   "source": [
    "YOUR ANSWER HERE"
   ]
  },
  {
   "cell_type": "code",
   "execution_count": null,
   "id": "1984a187-9d44-4f5c-a3be-d1bcacaf4458",
   "metadata": {
    "deletable": false,
    "nbgrader": {
     "cell_type": "code",
     "checksum": "b734403e9088f12ac58cd46fbeab3457",
     "grade": true,
     "grade_id": "cell-24c87f33e5b7c36a",
     "locked": false,
     "points": 1,
     "schema_version": 3,
     "solution": true,
     "task": false
    },
    "tags": []
   },
   "outputs": [],
   "source": [
    "# YOUR CODE HERE\n",
    "raise NotImplementedError()"
   ]
  }
 ],
 "metadata": {
  "kernelspec": {
   "display_name": "Python 3 (ipykernel)",
   "language": "python",
   "name": "python3"
  },
  "language_info": {
   "codemirror_mode": {
    "name": "ipython",
    "version": 3
   },
   "file_extension": ".py",
   "mimetype": "text/x-python",
   "name": "python",
   "nbconvert_exporter": "python",
   "pygments_lexer": "ipython3",
   "version": "3.7.11"
  }
 },
 "nbformat": 4,
 "nbformat_minor": 5
}
