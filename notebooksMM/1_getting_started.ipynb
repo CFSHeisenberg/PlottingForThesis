{
 "cells": [
  {
   "cell_type": "markdown",
   "id": "46615a9d",
   "metadata": {},
   "source": [
    "# Molecular Modelling Exercises\n",
    "\n",
    "Make sure you fill in any place that says `YOUR CODE HERE` or \"YOUR ANSWER HERE\"."
   ]
  },
  {
   "cell_type": "markdown",
   "id": "49571ffa",
   "metadata": {},
   "source": [
    "---"
   ]
  },
  {
   "cell_type": "markdown",
   "id": "e2fc6150-fe1b-485f-a71f-c5c9baed77fe",
   "metadata": {
    "deletable": false,
    "editable": false,
    "nbgrader": {
     "cell_type": "markdown",
     "checksum": "7465376330706e8a34251f21416e836e",
     "grade": false,
     "grade_id": "cell-6fd62c3d24f6d3c2",
     "locked": true,
     "schema_version": 3,
     "solution": false,
     "task": false
    },
    "tags": []
   },
   "source": [
    "# Jupyter Notebooks\n",
    "\n",
    "First a quick introduction to the general usage of Jupyter Notebook"
   ]
  },
  {
   "cell_type": "code",
   "execution_count": 1,
   "id": "7dc0cbb1-f55c-49f6-a7df-52bfc30107dc",
   "metadata": {
    "ExecuteTime": {
     "end_time": "2021-03-02T10:48:25.241286Z",
     "start_time": "2021-03-02T10:48:25.236286Z"
    }
   },
   "outputs": [],
   "source": [
    "# This is a code cell, that you can execute\n",
    "# Try:\n",
    "# Enter (to edit the cell)\n",
    "# Ctrl-Enter (to execute without moving)\n",
    "# Shift-Enter (to run and move to the next cell)\n",
    "# Alt-Enter (to run and insert a new cell after this cell)\n",
    "# Escape    (to deselect the cell and be able to move around)\n",
    "# All the variables defined previously will be available to the other cells.\n",
    "# Run this cell\n",
    "a = 1"
   ]
  },
  {
   "cell_type": "markdown",
   "id": "a5b96e45-1473-45d0-928d-07b3a1d0b8f1",
   "metadata": {
    "deletable": false,
    "editable": false,
    "nbgrader": {
     "cell_type": "markdown",
     "checksum": "f80ab7efcdb66bcc556c71252511dbdf",
     "grade": false,
     "grade_id": "cell-874bb298eda8a95d",
     "locked": true,
     "schema_version": 3,
     "solution": false,
     "task": false
    }
   },
   "source": [
    "Then continue with running the next cells:"
   ]
  },
  {
   "cell_type": "code",
   "execution_count": 2,
   "id": "bf7163e5-c3aa-4c58-b986-9ffcb432783f",
   "metadata": {},
   "outputs": [
    {
     "name": "stdout",
     "output_type": "stream",
     "text": [
      "1\n"
     ]
    }
   ],
   "source": [
    "print(a)"
   ]
  },
  {
   "cell_type": "markdown",
   "id": "784686a5-90c7-4a95-9ff2-6685fe95e80d",
   "metadata": {
    "deletable": false,
    "editable": false,
    "nbgrader": {
     "cell_type": "markdown",
     "checksum": "4a281ad2748ed34a880feb6eb92dafbc",
     "grade": false,
     "grade_id": "cell-9102c97104b994ec",
     "locked": true,
     "schema_version": 3,
     "solution": false,
     "task": false
    }
   },
   "source": [
    "Now run this one twice and then the one above:"
   ]
  },
  {
   "cell_type": "code",
   "execution_count": 3,
   "id": "24141204-53b7-4d4d-b75b-07c803ba95d3",
   "metadata": {},
   "outputs": [],
   "source": [
    "a = a + 1"
   ]
  },
  {
   "cell_type": "markdown",
   "id": "827e969f-befa-4439-bf01-1c3f218846bd",
   "metadata": {
    "deletable": false,
    "editable": false,
    "nbgrader": {
     "cell_type": "markdown",
     "checksum": "446623b7e4a5968f047c356f82b8476b",
     "grade": false,
     "grade_id": "cell-849febd47b18a7ac",
     "locked": true,
     "schema_version": 3,
     "solution": false,
     "task": false
    },
    "tags": []
   },
   "source": [
    "The code in all cells is in the same scope, so if you change a variable and re-run an earlier cell, then also in that earlier cell you are working with the changed variable!"
   ]
  },
  {
   "cell_type": "markdown",
   "id": "e63afc6c-1938-42ce-b346-8457d5aa7ae9",
   "metadata": {
    "deletable": false,
    "editable": false,
    "nbgrader": {
     "cell_type": "markdown",
     "checksum": "9585a5a4847e892801cd80177a7b15d4",
     "grade": false,
     "grade_id": "cell-bf70bf5f04fb8b2a",
     "locked": true,
     "schema_version": 3,
     "solution": false,
     "task": false
    },
    "tags": []
   },
   "source": [
    "# Python\n",
    "\n",
    "Over the course of the next 4 Notebooks, you will learn about the programming language Python.\n",
    "If something is unclear please don't hesitate and ask the lecturers and tutors.\n",
    "If you want further information, [the python documentation](https://docs.python.org/3/) covers more tutorials and topics.\n",
    "\n",
    "\n",
    "Python, unlike most other programming languages, is not statically typed and compiled but interpreted. \n",
    "In Python you don't have to specify what type of value you assign to a variable, and you can re-assign a value of different type to a variable."
   ]
  },
  {
   "cell_type": "code",
   "execution_count": 4,
   "id": "ea166e02-f75c-43df-8f5f-7e7ec1e19285",
   "metadata": {},
   "outputs": [
    {
     "name": "stdout",
     "output_type": "stream",
     "text": [
      "<class 'str'>\n",
      "<class 'int'>\n"
     ]
    }
   ],
   "source": [
    "a = 'this is a string'\n",
    "print(type(a))\n",
    "a = 1\n",
    "print(type(a))"
   ]
  },
  {
   "cell_type": "markdown",
   "id": "389e0a9b-55cb-48b5-a02a-4ad7f22b4073",
   "metadata": {
    "deletable": false,
    "editable": false,
    "nbgrader": {
     "cell_type": "markdown",
     "checksum": "57913df3900b93cb2849865970dc3622",
     "grade": false,
     "grade_id": "cell-71c7a8b47b8b7b50",
     "locked": true,
     "schema_version": 3,
     "solution": false,
     "task": false
    },
    "tags": []
   },
   "source": [
    "You can use Python just like one would use a calculator.\n",
    "Feel free to explore:"
   ]
  },
  {
   "cell_type": "code",
   "execution_count": 5,
   "id": "2b34789e-b2be-4af0-b76a-6c6791c33c9e",
   "metadata": {},
   "outputs": [
    {
     "data": {
      "text/plain": [
       "3"
      ]
     },
     "execution_count": 5,
     "metadata": {},
     "output_type": "execute_result"
    }
   ],
   "source": [
    "1 + 2"
   ]
  },
  {
   "cell_type": "code",
   "execution_count": 6,
   "id": "76eda49c-7b3f-407a-adc2-45feb32dbef4",
   "metadata": {},
   "outputs": [],
   "source": [
    "# feel free to explore further"
   ]
  },
  {
   "cell_type": "markdown",
   "id": "a3f3bb8b-7710-4405-968b-831600159f07",
   "metadata": {
    "deletable": false,
    "editable": false,
    "nbgrader": {
     "cell_type": "markdown",
     "checksum": "397198447a9b39f4d4a3b895c40fa1bf",
     "grade": false,
     "grade_id": "cell-83c24417c2851906",
     "locked": true,
     "schema_version": 3,
     "solution": false,
     "task": false
    },
    "tags": []
   },
   "source": [
    "If you want to store the result of a calculation, you can assign it to a variable:\n",
    "\n",
    "```python\n",
    "variable_name = expression\n",
    "```\n",
    "\n",
    "You can name your variables, almost, however you want.\n",
    "The Python Interpreter does not care how you name your variables, or how long your variable names are. Variable names are for humans to remember what values are stored in that variable!\n",
    "\n",
    "Variable names can be composed of letters, underscores and numbers, but must not start with a number.\n",
    "In general, it is convention to use lowercase letters and seperate words with underscores (called 'snake_case')."
   ]
  },
  {
   "cell_type": "code",
   "execution_count": 7,
   "id": "f93f1a62-f8cf-44fc-aa76-ed6eb8907f06",
   "metadata": {},
   "outputs": [],
   "source": [
    "addition = 3 + 2\n",
    "subtraction = 3 - 2"
   ]
  },
  {
   "cell_type": "markdown",
   "id": "b1f9ae94-1f73-402b-8691-ebc35604743b",
   "metadata": {
    "deletable": false,
    "editable": false,
    "nbgrader": {
     "cell_type": "markdown",
     "checksum": "cd19fbb8c45494947a86c84f72e6c220",
     "grade": false,
     "grade_id": "cell-aa47185c5c8bab35",
     "locked": true,
     "schema_version": 3,
     "solution": false,
     "task": false
    },
    "tags": []
   },
   "source": [
    "To view the value of an variable you can `print` the variable using the `print`-function: "
   ]
  },
  {
   "cell_type": "code",
   "execution_count": 8,
   "id": "e05f70af-7e30-4768-9491-dbcfaff60f68",
   "metadata": {},
   "outputs": [
    {
     "name": "stdout",
     "output_type": "stream",
     "text": [
      "The result of the addition is: \n",
      "5\n"
     ]
    }
   ],
   "source": [
    "print('The result of the addition is: ')\n",
    "print(addition)"
   ]
  },
  {
   "cell_type": "markdown",
   "id": "2fa2231b-ab07-4d00-8d9c-527372172b90",
   "metadata": {
    "deletable": false,
    "editable": false,
    "nbgrader": {
     "cell_type": "markdown",
     "checksum": "790456fa526e0e4561d581e3a46d9f49",
     "grade": false,
     "grade_id": "cell-bbaabf41d113ba27",
     "locked": true,
     "schema_version": 3,
     "solution": false,
     "task": false
    },
    "tags": []
   },
   "source": [
    "Also, Jupyter Notebooks display the return value of the last expression."
   ]
  },
  {
   "cell_type": "code",
   "execution_count": 9,
   "id": "27335f21-9661-451f-96c4-d63cf8b5a4ab",
   "metadata": {},
   "outputs": [
    {
     "name": "stdout",
     "output_type": "stream",
     "text": [
      "The result of the subtraction is not printed but rather the return value of variable name\n"
     ]
    },
    {
     "data": {
      "text/plain": [
       "1"
      ]
     },
     "execution_count": 9,
     "metadata": {},
     "output_type": "execute_result"
    }
   ],
   "source": [
    "print('The result of the subtraction is not printed but rather the return value of variable name')\n",
    "subtraction"
   ]
  },
  {
   "cell_type": "markdown",
   "id": "ab387907-1ccd-4dd5-90b0-0878147bd797",
   "metadata": {
    "deletable": false,
    "editable": false,
    "nbgrader": {
     "cell_type": "markdown",
     "checksum": "08bf631f964818affe1e5a0913425efa",
     "grade": false,
     "grade_id": "cell-8fa5fb7c80a13998",
     "locked": true,
     "schema_version": 3,
     "solution": false,
     "task": false
    },
    "tags": []
   },
   "source": [
    "## Comments\n",
    "\n",
    "Comments are ignored by the interpreter. They are useful if you want to write a short explanation for your future self what that part of code is doing.\n",
    "\n",
    "Everything after a `#` is ignored by the interpreter."
   ]
  },
  {
   "cell_type": "code",
   "execution_count": 10,
   "id": "2c71a48f-f1d6-4d61-b43d-bf8e2e91e78d",
   "metadata": {},
   "outputs": [
    {
     "data": {
      "text/plain": [
       "3"
      ]
     },
     "execution_count": 10,
     "metadata": {},
     "output_type": "execute_result"
    }
   ],
   "source": [
    "# the + 3 below is ignored, as well as this line here\n",
    "1 + 2 # + 3"
   ]
  },
  {
   "cell_type": "markdown",
   "id": "7d3a508a-9eca-4509-ada0-c7e34fc9f6ca",
   "metadata": {
    "deletable": false,
    "editable": false,
    "nbgrader": {
     "cell_type": "markdown",
     "checksum": "95ef983f538444c2223f89b5cfe94d90",
     "grade": false,
     "grade_id": "cell-486edc2222270622",
     "locked": true,
     "schema_version": 3,
     "solution": false,
     "task": false
    },
    "tags": []
   },
   "source": [
    "## Exercise 1\n",
    "\n",
    "Store any value you want in a variable called `exercise_variable`\n",
    "The cell with `assert` tests wether you solved the problem. There may be hidden tests."
   ]
  },
  {
   "cell_type": "code",
   "execution_count": 11,
   "id": "fe05a347-141e-465e-9cbb-2b504d4ac2e2",
   "metadata": {
    "deletable": false,
    "nbgrader": {
     "cell_type": "code",
     "checksum": "f30259c1c3352c5160aeebb6850410db",
     "grade": false,
     "grade_id": "cell-9446f34ee163b2e2",
     "locked": false,
     "schema_version": 3,
     "solution": true,
     "task": false
    },
    "tags": []
   },
   "outputs": [],
   "source": [
    "# YOUR CODE HERE\n",
    "exercise_variable = 27 + 3 / 5"
   ]
  },
  {
   "cell_type": "code",
   "execution_count": 12,
   "id": "111a802d-32f1-42c0-abd5-eddc1ed7eba8",
   "metadata": {
    "deletable": false,
    "editable": false,
    "nbgrader": {
     "cell_type": "code",
     "checksum": "7cf0947f79be81b68d099d0438803bbc",
     "grade": true,
     "grade_id": "cell-3f1a04248e83f061",
     "locked": true,
     "points": 1,
     "schema_version": 3,
     "solution": false,
     "task": false
    },
    "tags": []
   },
   "outputs": [],
   "source": [
    "assert 'exercise_variable' in locals()"
   ]
  },
  {
   "cell_type": "markdown",
   "id": "2732b8b0-7fe4-4a13-8437-c3bafcb1d6b7",
   "metadata": {},
   "source": [
    "# Indentation\n",
    "\n",
    "In python, indentation of specific code blocks is important. While in other languages, curly brackets and semicolons are used to denote code blocks that belong together.\n",
    "To indent code, 4 spaces (in many editors you can use 1 tab for this) should be used."
   ]
  },
  {
   "cell_type": "code",
   "execution_count": null,
   "id": "c6d3536e",
   "metadata": {},
   "outputs": [],
   "source": []
  }
 ],
 "metadata": {
  "kernelspec": {
   "display_name": "Python 3 (ipykernel)",
   "language": "python",
   "name": "python3"
  },
  "language_info": {
   "codemirror_mode": {
    "name": "ipython",
    "version": 3
   },
   "file_extension": ".py",
   "mimetype": "text/x-python",
   "name": "python",
   "nbconvert_exporter": "python",
   "pygments_lexer": "ipython3",
   "version": "3.7.11"
  }
 },
 "nbformat": 4,
 "nbformat_minor": 5
}
